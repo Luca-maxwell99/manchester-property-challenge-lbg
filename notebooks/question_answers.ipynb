{
 "cells": [
  {
   "cell_type": "markdown",
   "metadata": {},
   "source": [
    "# The Challenge Questions"
   ]
  },
  {
   "cell_type": "markdown",
   "metadata": {},
   "source": [
    "Firstly, I will need to load my cleaned data into this notebook."
   ]
  },
  {
   "cell_type": "code",
   "execution_count": 8,
   "metadata": {},
   "outputs": [
    {
     "data": {
      "text/html": [
       "<div><style>\n",
       ".dataframe > thead > tr,\n",
       ".dataframe > tbody > tr {\n",
       "  text-align: right;\n",
       "  white-space: pre-wrap;\n",
       "}\n",
       "</style>\n",
       "<small>shape: (1_307_289, 18)</small><table border=\"1\" class=\"dataframe\"><thead><tr><th>id</th><th>price</th><th>date</th><th>postcode</th><th>property_type</th><th>new</th><th>duration</th><th>paon</th><th>saon</th><th>street</th><th>locality</th><th>town_city</th><th>district</th><th>county</th><th>lat</th><th>long</th><th>year</th><th>postal_sector</th></tr><tr><td>str</td><td>f64</td><td>date</td><td>str</td><td>str</td><td>str</td><td>str</td><td>str</td><td>str</td><td>str</td><td>str</td><td>str</td><td>str</td><td>str</td><td>f64</td><td>f64</td><td>i32</td><td>str</td></tr></thead><tbody><tr><td>&quot;{D93B27B1-CBD4…</td><td>140000.0</td><td>2022-02-16</td><td>&quot;SK16 4DT&quot;</td><td>&quot;Terraced&quot;</td><td>&quot;Old Build&quot;</td><td>&quot;Freehold&quot;</td><td>&quot;70&quot;</td><td>&quot;&quot;</td><td>&quot;CHAPEL STREET&quot;</td><td>&quot;&quot;</td><td>&quot;DUKINFIELD&quot;</td><td>&quot;TAMESIDE&quot;</td><td>&quot;GREATER MANCHE…</td><td>53.477466</td><td>-2.091735</td><td>2022</td><td>&quot;SK16 4&quot;</td></tr><tr><td>&quot;{2ACACE8D-02B4…</td><td>278000.0</td><td>2024-11-29</td><td>&quot;SK6 1QW&quot;</td><td>&quot;Semi Detached&quot;</td><td>&quot;Old Build&quot;</td><td>&quot;Freehold&quot;</td><td>&quot;1&quot;</td><td>&quot;&quot;</td><td>&quot;BRIAR GROVE&quot;</td><td>&quot;WOODLEY&quot;</td><td>&quot;STOCKPORT&quot;</td><td>&quot;STOCKPORT&quot;</td><td>&quot;GREATER MANCHE…</td><td>53.427355</td><td>-2.102642</td><td>2024</td><td>&quot;SK6 1&quot;</td></tr><tr><td>&quot;{01EB45EF-F1B0…</td><td>345448.0</td><td>2022-02-11</td><td>&quot;M1 2EY&quot;</td><td>&quot;Flat&quot;</td><td>&quot;New Build&quot;</td><td>&quot;Leasehold&quot;</td><td>&quot;72&quot;</td><td>&quot;FLAT 902&quot;</td><td>&quot;CHAPELTOWN STR…</td><td>&quot;&quot;</td><td>&quot;MANCHESTER&quot;</td><td>&quot;MANCHESTER&quot;</td><td>&quot;GREATER MANCHE…</td><td>53.478898</td><td>-2.224708</td><td>2022</td><td>&quot;M1 2&quot;</td></tr><tr><td>&quot;{879537F9-FB6B…</td><td>93000.0</td><td>2004-09-22</td><td>&quot;BL8 2RR&quot;</td><td>&quot;Terraced&quot;</td><td>&quot;Old Build&quot;</td><td>&quot;Leasehold&quot;</td><td>&quot;43&quot;</td><td>&quot;&quot;</td><td>&quot;NEWBOLD STREET…</td><td>&quot;BURY&quot;</td><td>&quot;BURY&quot;</td><td>&quot;BURY&quot;</td><td>&quot;GREATER MANCHE…</td><td>53.594024</td><td>-2.318071</td><td>2004</td><td>&quot;BL8 2&quot;</td></tr><tr><td>&quot;{7011B10A-2B91…</td><td>80000.0</td><td>2018-05-03</td><td>&quot;BL3 4HE&quot;</td><td>&quot;Terraced&quot;</td><td>&quot;Old Build&quot;</td><td>&quot;Freehold&quot;</td><td>&quot;243&quot;</td><td>&quot;&quot;</td><td>&quot;WILLOWS LANE&quot;</td><td>&quot;&quot;</td><td>&quot;BOLTON&quot;</td><td>&quot;BOLTON&quot;</td><td>&quot;GREATER MANCHE…</td><td>53.56682</td><td>-2.458227</td><td>2018</td><td>&quot;BL3 4&quot;</td></tr><tr><td>&hellip;</td><td>&hellip;</td><td>&hellip;</td><td>&hellip;</td><td>&hellip;</td><td>&hellip;</td><td>&hellip;</td><td>&hellip;</td><td>&hellip;</td><td>&hellip;</td><td>&hellip;</td><td>&hellip;</td><td>&hellip;</td><td>&hellip;</td><td>&hellip;</td><td>&hellip;</td><td>&hellip;</td><td>&hellip;</td></tr><tr><td>&quot;{B83BB2E2-7A4C…</td><td>94130.0</td><td>2013-05-31</td><td>&quot;M14 4EZ&quot;</td><td>&quot;Terraced&quot;</td><td>&quot;Old Build&quot;</td><td>&quot;Freehold&quot;</td><td>&quot;34&quot;</td><td>&quot;&quot;</td><td>&quot;GREAT SOUTHERN…</td><td>&quot;&quot;</td><td>&quot;MANCHESTER&quot;</td><td>&quot;MANCHESTER&quot;</td><td>&quot;GREATER MANCHE…</td><td>53.454883</td><td>-2.233151</td><td>2013</td><td>&quot;M14 4&quot;</td></tr><tr><td>&quot;{42A5A709-54F7…</td><td>142000.0</td><td>2016-09-30</td><td>&quot;BL4 8NU&quot;</td><td>&quot;Detached&quot;</td><td>&quot;Old Build&quot;</td><td>&quot;Leasehold&quot;</td><td>&quot;35&quot;</td><td>&quot;&quot;</td><td>&quot;GREENMOUNT PAR…</td><td>&quot;KEARSLEY&quot;</td><td>&quot;BOLTON&quot;</td><td>&quot;BOLTON&quot;</td><td>&quot;GREATER MANCHE…</td><td>53.54187</td><td>-2.375203</td><td>2016</td><td>&quot;BL4 8&quot;</td></tr><tr><td>&quot;{98C75471-F554…</td><td>265000.0</td><td>2019-10-04</td><td>&quot;M16 0HU&quot;</td><td>&quot;Terraced&quot;</td><td>&quot;Old Build&quot;</td><td>&quot;Leasehold&quot;</td><td>&quot;70&quot;</td><td>&quot;&quot;</td><td>&quot;WARWICK ROAD S…</td><td>&quot;&quot;</td><td>&quot;MANCHESTER&quot;</td><td>&quot;TRAFFORD&quot;</td><td>&quot;GREATER MANCHE…</td><td>53.452352</td><td>-2.281641</td><td>2019</td><td>&quot;M16 0&quot;</td></tr><tr><td>&quot;{43A28C2A-CC22…</td><td>74950.0</td><td>2001-11-23</td><td>&quot;M15 5TE&quot;</td><td>&quot;Terraced&quot;</td><td>&quot;Old Build&quot;</td><td>&quot;Leasehold&quot;</td><td>&quot;15&quot;</td><td>&quot;&quot;</td><td>&quot;OLD YORK STREE…</td><td>&quot;HULME&quot;</td><td>&quot;MANCHESTER&quot;</td><td>&quot;MANCHESTER&quot;</td><td>&quot;GREATER MANCHE…</td><td>53.466086</td><td>-2.253427</td><td>2001</td><td>&quot;M15 5&quot;</td></tr><tr><td>&quot;{76EBB764-8195…</td><td>207995.0</td><td>2007-01-31</td><td>&quot;M8 5QE&quot;</td><td>&quot;Terraced&quot;</td><td>&quot;New Build&quot;</td><td>&quot;Freehold&quot;</td><td>&quot;23&quot;</td><td>&quot;&quot;</td><td>&quot;SADDLECOTE CLO…</td><td>&quot;MANCHESTER&quot;</td><td>&quot;MANCHESTER&quot;</td><td>&quot;MANCHESTER&quot;</td><td>&quot;GREATER MANCHE…</td><td>53.513199</td><td>-2.228599</td><td>2007</td><td>&quot;M8 5&quot;</td></tr></tbody></table></div>"
      ],
      "text/plain": [
       "shape: (1_307_289, 18)\n",
       "┌──────────────┬──────────┬────────────┬──────────┬───┬───────────┬───────────┬──────┬─────────────┐\n",
       "│ id           ┆ price    ┆ date       ┆ postcode ┆ … ┆ lat       ┆ long      ┆ year ┆ postal_sect │\n",
       "│ ---          ┆ ---      ┆ ---        ┆ ---      ┆   ┆ ---       ┆ ---       ┆ ---  ┆ or          │\n",
       "│ str          ┆ f64      ┆ date       ┆ str      ┆   ┆ f64       ┆ f64       ┆ i32  ┆ ---         │\n",
       "│              ┆          ┆            ┆          ┆   ┆           ┆           ┆      ┆ str         │\n",
       "╞══════════════╪══════════╪════════════╪══════════╪═══╪═══════════╪═══════════╪══════╪═════════════╡\n",
       "│ {D93B27B1-CB ┆ 140000.0 ┆ 2022-02-16 ┆ SK16 4DT ┆ … ┆ 53.477466 ┆ -2.091735 ┆ 2022 ┆ SK16 4      │\n",
       "│ D4-3100-E053 ┆          ┆            ┆          ┆   ┆           ┆           ┆      ┆             │\n",
       "│ -6C04A8C…    ┆          ┆            ┆          ┆   ┆           ┆           ┆      ┆             │\n",
       "│ {2ACACE8D-02 ┆ 278000.0 ┆ 2024-11-29 ┆ SK6 1QW  ┆ … ┆ 53.427355 ┆ -2.102642 ┆ 2024 ┆ SK6 1       │\n",
       "│ B4-295E-E063 ┆          ┆            ┆          ┆   ┆           ┆           ┆      ┆             │\n",
       "│ -4804A8C…    ┆          ┆            ┆          ┆   ┆           ┆           ┆      ┆             │\n",
       "│ {01EB45EF-F1 ┆ 345448.0 ┆ 2022-02-11 ┆ M1 2EY   ┆ … ┆ 53.478898 ┆ -2.224708 ┆ 2022 ┆ M1 2        │\n",
       "│ B0-40F3-E063 ┆          ┆            ┆          ┆   ┆           ┆           ┆      ┆             │\n",
       "│ -4704A8C…    ┆          ┆            ┆          ┆   ┆           ┆           ┆      ┆             │\n",
       "│ {879537F9-FB ┆ 93000.0  ┆ 2004-09-22 ┆ BL8 2RR  ┆ … ┆ 53.594024 ┆ -2.318071 ┆ 2004 ┆ BL8 2       │\n",
       "│ 6B-4663-A0E5 ┆          ┆            ┆          ┆   ┆           ┆           ┆      ┆             │\n",
       "│ -5E4075D…    ┆          ┆            ┆          ┆   ┆           ┆           ┆      ┆             │\n",
       "│ {7011B10A-2B ┆ 80000.0  ┆ 2018-05-03 ┆ BL3 4HE  ┆ … ┆ 53.56682  ┆ -2.458227 ┆ 2018 ┆ BL3 4       │\n",
       "│ 91-8ED6-E053 ┆          ┆            ┆          ┆   ┆           ┆           ┆      ┆             │\n",
       "│ -6B04A8C…    ┆          ┆            ┆          ┆   ┆           ┆           ┆      ┆             │\n",
       "│ …            ┆ …        ┆ …          ┆ …        ┆ … ┆ …         ┆ …         ┆ …    ┆ …           │\n",
       "│ {B83BB2E2-7A ┆ 94130.0  ┆ 2013-05-31 ┆ M14 4EZ  ┆ … ┆ 53.454883 ┆ -2.233151 ┆ 2013 ┆ M14 4       │\n",
       "│ 4C-41E6-A67B ┆          ┆            ┆          ┆   ┆           ┆           ┆      ┆             │\n",
       "│ -1CBE9D1…    ┆          ┆            ┆          ┆   ┆           ┆           ┆      ┆             │\n",
       "│ {42A5A709-54 ┆ 142000.0 ┆ 2016-09-30 ┆ BL4 8NU  ┆ … ┆ 53.54187  ┆ -2.375203 ┆ 2016 ┆ BL4 8       │\n",
       "│ F7-56E8-E050 ┆          ┆            ┆          ┆   ┆           ┆           ┆      ┆             │\n",
       "│ -A8C0620…    ┆          ┆            ┆          ┆   ┆           ┆           ┆      ┆             │\n",
       "│ {98C75471-F5 ┆ 265000.0 ┆ 2019-10-04 ┆ M16 0HU  ┆ … ┆ 53.452352 ┆ -2.281641 ┆ 2019 ┆ M16 0       │\n",
       "│ 54-72E9-E053 ┆          ┆            ┆          ┆   ┆           ┆           ┆      ┆             │\n",
       "│ -6B04A8C…    ┆          ┆            ┆          ┆   ┆           ┆           ┆      ┆             │\n",
       "│ {43A28C2A-CC ┆ 74950.0  ┆ 2001-11-23 ┆ M15 5TE  ┆ … ┆ 53.466086 ┆ -2.253427 ┆ 2001 ┆ M15 5       │\n",
       "│ 22-4DEA-A303 ┆          ┆            ┆          ┆   ┆           ┆           ┆      ┆             │\n",
       "│ -98C9B59…    ┆          ┆            ┆          ┆   ┆           ┆           ┆      ┆             │\n",
       "│ {76EBB764-81 ┆ 207995.0 ┆ 2007-01-31 ┆ M8 5QE   ┆ … ┆ 53.513199 ┆ -2.228599 ┆ 2007 ┆ M8 5        │\n",
       "│ 95-4007-847E ┆          ┆            ┆          ┆   ┆           ┆           ┆      ┆             │\n",
       "│ -C149A83…    ┆          ┆            ┆          ┆   ┆           ┆           ┆      ┆             │\n",
       "└──────────────┴──────────┴────────────┴──────────┴───┴───────────┴───────────┴──────┴─────────────┘"
      ]
     },
     "execution_count": 8,
     "metadata": {},
     "output_type": "execute_result"
    }
   ],
   "source": [
    "import polars as pl\n",
    "# load parquet into clean_df\n",
    "clean_df = pl.read_parquet(\"../data/clean_property_data.parquet\")\n",
    "# validate that has worked\n",
    "clean_df"
   ]
  },
  {
   "cell_type": "markdown",
   "metadata": {},
   "source": [
    "### Q1. What are the top 10 most expensive detached homes sold as Freehold in Manchester City after 2010?"
   ]
  },
  {
   "cell_type": "markdown",
   "metadata": {},
   "source": [
    "The goal of this question is to find the top 10 most expensive detached properties sold as Freehold in Manchester City after 2010. I will filter the dataframe for detached, freehold properties, in manchester after 2010. Then I will sort price by decsending and limit by 10. \n",
    "\n",
    "(think about how i want to present this finding, what data is relevant)"
   ]
  },
  {
   "cell_type": "code",
   "execution_count": 44,
   "metadata": {},
   "outputs": [],
   "source": [
    "\n",
    "# Filter for the constraints given in the question\n",
    "filtered_df = clean_df.filter(\n",
    "    (pl.col(\"property_type\") == \"Detached\") &\n",
    "    (pl.col(\"duration\") == \"Freehold\") &\n",
    "    (pl.col(\"town_city\").str.to_lowercase() == \"manchester\") &\n",
    "    (pl.col(\"year\") > 2010)\n",
    ")\n",
    "\n",
    "# Sort by price and show top 10\n",
    "top_10_df = filtered_df.sort(\"price\", descending=True).head(10)\n",
    "top_10_df\n",
    "\n",
    "q1_clean = top_10_df.select([\n",
    "    \"price\", \"date\", \"postcode\", \"street\", \"town_city\", \"district\", \"county\", \"paon\", \"id\"\n",
    "])\n",
    "q1_clean\n",
    "\n",
    "q1_clean.write_csv(\"../data/q1_answer.csv\")\n",
    "\n"
   ]
  },
  {
   "cell_type": "markdown",
   "metadata": {},
   "source": [
    "### Q2. What are the top 5 most expensive postal sectors (postal sectors are the section of the postal code after the area sector: examples include M1 3, M1 4) in the Salford district between March 2012 and September 2015?\n",
    "\n",
    "To answer this question I will filter the data set for isolated properties in the Salford district between the dates March 1st 2012 and September 30th 2015.  I will group by the derived postal sector column I created during cleaning and calculate the average price per sector, rounded to two decimal places. Finally, return the top 5 sectors. \n",
    "\n",
    "This outlines the most expensive postal sector in Salford by average price during the timeframe provided. \n",
    "\n",
    "used cast(str) method to turn float into str and map_elements(lamba s: f\"£{s}\") to prepend the pound sign. Making it display ready."
   ]
  },
  {
   "cell_type": "code",
   "execution_count": 45,
   "metadata": {},
   "outputs": [
    {
     "data": {
      "text/html": [
       "<div><style>\n",
       ".dataframe > thead > tr,\n",
       ".dataframe > tbody > tr {\n",
       "  text-align: right;\n",
       "  white-space: pre-wrap;\n",
       "}\n",
       "</style>\n",
       "<small>shape: (5, 2)</small><table border=\"1\" class=\"dataframe\"><thead><tr><th>postal_sector</th><th>avg_price</th></tr><tr><td>str</td><td>str</td></tr></thead><tbody><tr><td>&quot;M30 0&quot;</td><td>&quot;£97422.03&quot;</td></tr><tr><td>&quot;M5 5&quot;</td><td>&quot;£90654.8&quot;</td></tr><tr><td>&quot;M50 1&quot;</td><td>&quot;£87926.18&quot;</td></tr><tr><td>&quot;M38 0&quot;</td><td>&quot;£86810.21&quot;</td></tr><tr><td>&quot;M6 6&quot;</td><td>&quot;£85652.37&quot;</td></tr></tbody></table></div>"
      ],
      "text/plain": [
       "shape: (5, 2)\n",
       "┌───────────────┬───────────┐\n",
       "│ postal_sector ┆ avg_price │\n",
       "│ ---           ┆ ---       │\n",
       "│ str           ┆ str       │\n",
       "╞═══════════════╪═══════════╡\n",
       "│ M30 0         ┆ £97422.03 │\n",
       "│ M5 5          ┆ £90654.8  │\n",
       "│ M50 1         ┆ £87926.18 │\n",
       "│ M38 0         ┆ £86810.21 │\n",
       "│ M6 6          ┆ £85652.37 │\n",
       "└───────────────┴───────────┘"
      ]
     },
     "execution_count": 45,
     "metadata": {},
     "output_type": "execute_result"
    }
   ],
   "source": [
    "\n",
    "from datetime import date\n",
    "\n",
    "# Filter for Salford district and date range\n",
    "salford_df = clean_df.filter(\n",
    "    (pl.col(\"district\").str.to_lowercase() == \"salford\") &\n",
    "    (pl.col(\"date\") >= date(2012, 3, 1)) &\n",
    "    (pl.col(\"date\") <= date(2015, 9, 30))\n",
    ")\n",
    "\n",
    "# Group by postal sector and calculate average price\n",
    "top_sectors = (\n",
    "    salford_df.group_by(\"postal_sector\")\n",
    "    .agg(pl.col(\"price\").mean().round(2).cast(str).map_elements(lambda s: f\"£{s}\").alias(\"avg_price\"))\n",
    "    .sort(\"avg_price\", descending=True)\n",
    "    .head(5)\n",
    ")\n",
    "\n",
    "top_sectors\n",
    "#top_sectors.write_csv(\"../data/q2_answer.csv\")\n"
   ]
  },
  {
   "cell_type": "markdown",
   "metadata": {},
   "source": [
    "### Q3: Where in Greater Manchester Are the Most Residential Homes Being Built Over the Past 10 Years?\n",
    "\n",
    "To address this question, I filtered the dataset for transactions between **2014 and 2024**, focusing on properties marked as `\"New Build\"` in the `new` column. I excluded `\"Other\"` property types to approximate residential homes. Grouping by `district` and counting the number of new build transactions provides a reasonable proxy for where residential construction has been most active across Greater Manchester over the past decade.\n"
   ]
  },
  {
   "cell_type": "code",
   "execution_count": 38,
   "metadata": {},
   "outputs": [],
   "source": [
    "\n",
    "from datetime import date\n",
    "\n",
    "# Filter for new residential builds sold between 2014 and 2024\n",
    "new_builds_10yr = clean_df.filter(\n",
    "    (pl.col(\"date\") >= date(2014, 1, 1)) &\n",
    "    (pl.col(\"date\") <= date(2024, 12, 31)) &\n",
    "    (pl.col(\"new\") == \"New Build\") &\n",
    "    (pl.col(\"property_type\") != \"Other\")\n",
    ")\n",
    "\n",
    "# Count new build transactions per district\n",
    "top_build_districts = (\n",
    "    new_builds_10yr.group_by(\"district\")\n",
    "    .agg(pl.len().alias(\"new_build_sales\"))\n",
    "    .sort(\"new_build_sales\", descending=True)\n",
    ")\n",
    "\n",
    "top_build_districts.head(10)\n",
    "\n",
    "top_build_districts.write_csv(\"../data/q3_answer.csv\")\n"
   ]
  },
  {
   "cell_type": "markdown",
   "metadata": {},
   "source": [
    "### Q4: What was the most expensive non-residential property sold in Greater Manchester in 2017? Find and share context about this sale.\n",
    "\n",
    "For this question, I focused on transactions from **2017**, specifically looking at non-residential properties categorized as \"Other\" in the Greater Manchester area. I sorted the prices in descending order and identified \"The Printworks\" as the top property. After conducting some research, I discovered that it was sold to DTZ investors in 2017 for £108 billion."
   ]
  },
  {
   "cell_type": "code",
   "execution_count": 40,
   "metadata": {},
   "outputs": [],
   "source": [
    "from datetime import date\n",
    "\n",
    "# Filter for non-residential properties sold in Greater Manchester in 2017\n",
    "non_res_2017 = clean_df.filter(\n",
    "    (pl.col(\"year\") == 2017) &\n",
    "    (pl.col(\"county\").str.to_lowercase() == \"greater manchester\") &\n",
    "    (pl.col(\"property_type\") == \"Other (Non Residential)\")\n",
    ")\n",
    "\n",
    "# Find the most expensive sale\n",
    "top_non_res = (\n",
    "    non_res_2017.sort(\"price\", descending=True)\n",
    "    .head(1)\n",
    ")\n",
    "\n",
    "q4_answer = top_non_res.select([\n",
    "    \"price\", \"date\", \"postcode\", \"street\", \"paon\", \"town_city\", \"district\"\n",
    "])\n",
    "\n",
    "q4_answer.write_csv(\"../data/q4_answer.csv\")\n"
   ]
  },
  {
   "cell_type": "markdown",
   "metadata": {},
   "source": []
  },
  {
   "cell_type": "markdown",
   "metadata": {},
   "source": [
    "### Q5: Which Residential Building Types Are Experiencing the Most Significant Proportional Increase in Prices?\n",
    "\n",
    "This question is looking at trend analysis. It's not focused on which property type is most expensive but instead which types have grown most in value, it's about relative change, not price. \n",
    "\n",
    "To address this question, I Excluded `\"Other\"` property types to concentrate solely on residential buildings, grouped the data by `property_type` and `year` to compute the **average price per type for each year**, pivoted the data for a clearer comparison of prices across different years, measured the **proportional change** in average price between the earliest and most recent years, and sorted the outcomes to determine which building types experienced the largest relative growth.\n",
    "\n",
    "This analysis highlights which residential categories, such as `\"Flat\"`, `\"Detached\"`, and `\"Terraced\"` have appreciated the most over time."
   ]
  },
  {
   "cell_type": "code",
   "execution_count": 46,
   "metadata": {},
   "outputs": [
    {
     "data": {
      "text/html": [
       "<div><style>\n",
       ".dataframe > thead > tr,\n",
       ".dataframe > tbody > tr {\n",
       "  text-align: right;\n",
       "  white-space: pre-wrap;\n",
       "}\n",
       "</style>\n",
       "<small>shape: (5, 31)</small><table border=\"1\" class=\"dataframe\"><thead><tr><th>property_type</th><th>2021</th><th>2013</th><th>2011</th><th>2018</th><th>2014</th><th>1997</th><th>2019</th><th>2007</th><th>2000</th><th>2020</th><th>2022</th><th>2001</th><th>2003</th><th>2002</th><th>2008</th><th>2016</th><th>2009</th><th>2006</th><th>1999</th><th>2004</th><th>2017</th><th>2005</th><th>2012</th><th>2023</th><th>2015</th><th>2024</th><th>2010</th><th>1996</th><th>1998</th><th>proportional_change</th></tr><tr><td>str</td><td>f64</td><td>f64</td><td>f64</td><td>f64</td><td>f64</td><td>f64</td><td>f64</td><td>f64</td><td>f64</td><td>f64</td><td>f64</td><td>f64</td><td>f64</td><td>f64</td><td>f64</td><td>f64</td><td>f64</td><td>f64</td><td>f64</td><td>f64</td><td>f64</td><td>f64</td><td>f64</td><td>f64</td><td>f64</td><td>f64</td><td>f64</td><td>f64</td><td>f64</td><td>f64</td></tr></thead><tbody><tr><td>&quot;Terraced&quot;</td><td>171554.792736</td><td>110705.145826</td><td>106783.707825</td><td>138342.397906</td><td>113051.850552</td><td>35322.560875</td><td>141784.167079</td><td>116089.159481</td><td>41173.366392</td><td>152571.167637</td><td>185396.111002</td><td>44692.734081</td><td>1.9078e8</td><td>51891.311015</td><td>114855.329225</td><td>5.3007e8</td><td>108498.559644</td><td>107070.110059</td><td>38407.736305</td><td>81780.275771</td><td>131200.037207</td><td>94607.465121</td><td>109042.616306</td><td>186512.844729</td><td>120269.148806</td><td>193688.821384</td><td>108701.984397</td><td>33421.896121</td><td>37171.572781</td><td>4.795267</td></tr><tr><td>&quot;Detached&quot;</td><td>402523.636554</td><td>264351.721037</td><td>276285.755531</td><td>343944.032287</td><td>274200.884622</td><td>102924.000405</td><td>342840.281123</td><td>288504.119433</td><td>125853.889858</td><td>359218.095506</td><td>433191.432621</td><td>141006.950907</td><td>198760.303002</td><td>166777.329302</td><td>289958.505648</td><td>307581.463318</td><td>271449.693489</td><td>269262.843617</td><td>116077.458123</td><td>234221.306007</td><td>325859.812353</td><td>260358.531337</td><td>265948.81194</td><td>441489.06364</td><td>285218.5542</td><td>439431.507797</td><td>290195.379225</td><td>96281.872014</td><td>106811.736397</td><td>3.564011</td></tr><tr><td>&quot;Semi Detached&quot;</td><td>242468.335143</td><td>156773.672456</td><td>153196.438533</td><td>199330.45444</td><td>163583.96045</td><td>55135.859989</td><td>2.5616e9</td><td>163353.104231</td><td>67073.089483</td><td>220359.551639</td><td>264097.122314</td><td>74228.008179</td><td>105859.13613</td><td>87592.904123</td><td>157661.128806</td><td>180221.510394</td><td>152143.137035</td><td>153262.083294</td><td>61256.458684</td><td>129444.712446</td><td>189292.459269</td><td>144142.398415</td><td>155251.947723</td><td>264596.988643</td><td>171017.350698</td><td>1.6442e9</td><td>158038.284683</td><td>51892.181523</td><td>57748.912675</td><td>31683.856447</td></tr><tr><td>&quot;Other (Non Res…</td><td>981599.580965</td><td>1.3076e6</td><td>657326.818182</td><td>850035.501104</td><td>1.5361e6</td><td>470.0</td><td>683704.927107</td><td>248066.666667</td><td>null</td><td>819943.07318</td><td>900376.620977</td><td>204.0</td><td>900000.0</td><td>180.0</td><td>85262.666667</td><td>872681.082618</td><td>200256.25</td><td>1050.0</td><td>110.0</td><td>98640.0</td><td>774288.548128</td><td>43957.333333</td><td>523022.0</td><td>866643.585928</td><td>1.2557e6</td><td>804821.805794</td><td>72500.0</td><td>200.0</td><td>null</td><td>4023.109029</td></tr><tr><td>&quot;Flat&quot;</td><td>206560.531562</td><td>119849.53731</td><td>121326.238147</td><td>157237.262454</td><td>171327.945373</td><td>49636.85881</td><td>164151.132139</td><td>148473.174611</td><td>74443.135777</td><td>196593.796317</td><td>211673.183528</td><td>83872.392633</td><td>113899.974438</td><td>103527.916642</td><td>135021.862961</td><td>147949.885926</td><td>121194.813742</td><td>144081.580659</td><td>62582.307579</td><td>132231.399693</td><td>158068.65131</td><td>137921.983974</td><td>122371.411944</td><td>199456.59963</td><td>132979.451617</td><td>203965.842264</td><td>124278.871129</td><td>45915.696867</td><td>54477.571429</td><td>3.442181</td></tr></tbody></table></div>"
      ],
      "text/plain": [
       "shape: (5, 31)\n",
       "┌───────────┬───────────┬───────────┬───────────┬───┬───────────┬───────────┬───────────┬──────────┐\n",
       "│ property_ ┆ 2021      ┆ 2013      ┆ 2011      ┆ … ┆ 2010      ┆ 1996      ┆ 1998      ┆ proporti │\n",
       "│ type      ┆ ---       ┆ ---       ┆ ---       ┆   ┆ ---       ┆ ---       ┆ ---       ┆ onal_cha │\n",
       "│ ---       ┆ f64       ┆ f64       ┆ f64       ┆   ┆ f64       ┆ f64       ┆ f64       ┆ nge      │\n",
       "│ str       ┆           ┆           ┆           ┆   ┆           ┆           ┆           ┆ ---      │\n",
       "│           ┆           ┆           ┆           ┆   ┆           ┆           ┆           ┆ f64      │\n",
       "╞═══════════╪═══════════╪═══════════╪═══════════╪═══╪═══════════╪═══════════╪═══════════╪══════════╡\n",
       "│ Terraced  ┆ 171554.79 ┆ 110705.14 ┆ 106783.70 ┆ … ┆ 108701.98 ┆ 33421.896 ┆ 37171.572 ┆ 4.795267 │\n",
       "│           ┆ 2736      ┆ 5826      ┆ 7825      ┆   ┆ 4397      ┆ 121       ┆ 781       ┆          │\n",
       "│ Detached  ┆ 402523.63 ┆ 264351.72 ┆ 276285.75 ┆ … ┆ 290195.37 ┆ 96281.872 ┆ 106811.73 ┆ 3.564011 │\n",
       "│           ┆ 6554      ┆ 1037      ┆ 5531      ┆   ┆ 9225      ┆ 014       ┆ 6397      ┆          │\n",
       "│ Semi      ┆ 242468.33 ┆ 156773.67 ┆ 153196.43 ┆ … ┆ 158038.28 ┆ 51892.181 ┆ 57748.912 ┆ 31683.85 │\n",
       "│ Detached  ┆ 5143      ┆ 2456      ┆ 8533      ┆   ┆ 4683      ┆ 523       ┆ 675       ┆ 6447     │\n",
       "│ Other     ┆ 981599.58 ┆ 1.3076e6  ┆ 657326.81 ┆ … ┆ 72500.0   ┆ 200.0     ┆ null      ┆ 4023.109 │\n",
       "│ (Non Resi ┆ 0965      ┆           ┆ 8182      ┆   ┆           ┆           ┆           ┆ 029      │\n",
       "│ dential)  ┆           ┆           ┆           ┆   ┆           ┆           ┆           ┆          │\n",
       "│ Flat      ┆ 206560.53 ┆ 119849.53 ┆ 121326.23 ┆ … ┆ 124278.87 ┆ 45915.696 ┆ 54477.571 ┆ 3.442181 │\n",
       "│           ┆ 1562      ┆ 731       ┆ 8147      ┆   ┆ 1129      ┆ 867       ┆ 429       ┆          │\n",
       "└───────────┴───────────┴───────────┴───────────┴───┴───────────┴───────────┴───────────┴──────────┘"
      ]
     },
     "execution_count": 46,
     "metadata": {},
     "output_type": "execute_result"
    }
   ],
   "source": [
    "\n",
    "# Filter out non-residential properties\n",
    "res_df = clean_df.filter(pl.col(\"property_type\") != \"Other (Non residential)\")\n",
    "\n",
    "# Group by property type and year, calculate average price\n",
    "avg_price_by_type_year = (\n",
    "    res_df.group_by([\"property_type\", \"year\"])\n",
    "    .agg(pl.col(\"price\").mean().alias(\"avg_price\"))\n",
    ")\n",
    "\n",
    "# Pivot to wide format\n",
    "pivoted = avg_price_by_type_year.pivot(\n",
    "    values=\"avg_price\",\n",
    "    index=\"property_type\",\n",
    "    columns=\"year\"\n",
    ")\n",
    "\n",
    "\n",
    "# Extract year columns (they may be strings!)\n",
    "year_cols = [col for col in pivoted.columns if str(col).isdigit()]\n",
    "year_cols = sorted([int(col) for col in year_cols])\n",
    "\n",
    "# Calculate proportional change\n",
    "start_year, end_year = year_cols[0], year_cols[-1]\n",
    "\n",
    "price_change = pivoted.with_columns(\n",
    "    (\n",
    "        (pl.col(str(end_year)) - pl.col(str(start_year))) / pl.col(str(start_year))\n",
    "    ).alias(\"proportional_change\")\n",
    ")\n",
    "\n",
    "# Sort and display\n",
    "price_change.sort(\"proportional_change\", descending=True).select([\"property_type\", \"proportional_change\"])\n",
    "\n",
    "price_change.write_csv(\"../data/q5_answer.csv\")\n",
    "price_change\n",
    "\n"
   ]
  },
  {
   "cell_type": "markdown",
   "metadata": {},
   "source": [
    "### Q6: Since 1996, what property sale(s) in Trafford was the furthest south‑east?\n",
    "\n",
    "In order to answer this question I needed to work out how to find south east using lat and long. To begin, I filtered the dataset for properties sold in Trafford since 1996. I used lat and long columns to Identify the furthest south east point, south = lowest latitude, east = highest longitude. Finally I returned the top result to inspect. \n",
    "\n"
   ]
  },
  {
   "cell_type": "code",
   "execution_count": 42,
   "metadata": {},
   "outputs": [],
   "source": [
    "# Filter for Trafford sales since 1996\n",
    "trafford_sales = clean_df.filter(\n",
    "    (pl.col(\"year\") >= 1996) &\n",
    "    (pl.col(\"district\").str.to_lowercase() == \"trafford\")\n",
    ")\n",
    "\n",
    "# Sort by latitude ascending (south) and longitude descending (east)\n",
    "furthest_se = (\n",
    "    trafford_sales.sort(\n",
    "        by=[\"lat\", \"long\"],\n",
    "        descending=[False, True]  # south = low lat, east = high long\n",
    "    )\n",
    "    .head(1)\n",
    ")\n",
    "\n",
    "# Select key columns for context\n",
    "furthest_se\n",
    "\n",
    "q6_clean = furthest_se.select([\n",
    "    \"price\", \"date\", \"postcode\", \"street\", \"paon\", \"town_city\", \"district\", \"lat\", \"long\"\n",
    "])\n",
    "\n",
    "q6_clean.write_csv(\"../data/q6_answer.csv\")"
   ]
  }
 ],
 "metadata": {
  "kernelspec": {
   "display_name": "venv",
   "language": "python",
   "name": "python3"
  },
  "language_info": {
   "codemirror_mode": {
    "name": "ipython",
    "version": 3
   },
   "file_extension": ".py",
   "mimetype": "text/x-python",
   "name": "python",
   "nbconvert_exporter": "python",
   "pygments_lexer": "ipython3",
   "version": "3.11.13"
  }
 },
 "nbformat": 4,
 "nbformat_minor": 2
}
