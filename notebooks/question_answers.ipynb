{
 "cells": [
  {
   "cell_type": "markdown",
   "metadata": {},
   "source": [
    "# The Challenge Questions"
   ]
  },
  {
   "cell_type": "markdown",
   "metadata": {},
   "source": [
    "Firstly, I will need to load my cleaned data into this notebook."
   ]
  },
  {
   "cell_type": "code",
   "execution_count": 8,
   "metadata": {},
   "outputs": [
    {
     "data": {
      "text/html": [
       "<div><style>\n",
       ".dataframe > thead > tr,\n",
       ".dataframe > tbody > tr {\n",
       "  text-align: right;\n",
       "  white-space: pre-wrap;\n",
       "}\n",
       "</style>\n",
       "<small>shape: (1_307_289, 18)</small><table border=\"1\" class=\"dataframe\"><thead><tr><th>id</th><th>price</th><th>date</th><th>postcode</th><th>property_type</th><th>new</th><th>duration</th><th>paon</th><th>saon</th><th>street</th><th>locality</th><th>town_city</th><th>district</th><th>county</th><th>lat</th><th>long</th><th>year</th><th>postal_sector</th></tr><tr><td>str</td><td>f64</td><td>date</td><td>str</td><td>str</td><td>str</td><td>str</td><td>str</td><td>str</td><td>str</td><td>str</td><td>str</td><td>str</td><td>str</td><td>f64</td><td>f64</td><td>i32</td><td>str</td></tr></thead><tbody><tr><td>&quot;{D93B27B1-CBD4…</td><td>140000.0</td><td>2022-02-16</td><td>&quot;SK16 4DT&quot;</td><td>&quot;Terraced&quot;</td><td>&quot;Old Build&quot;</td><td>&quot;Freehold&quot;</td><td>&quot;70&quot;</td><td>&quot;&quot;</td><td>&quot;CHAPEL STREET&quot;</td><td>&quot;&quot;</td><td>&quot;DUKINFIELD&quot;</td><td>&quot;TAMESIDE&quot;</td><td>&quot;GREATER MANCHE…</td><td>53.477466</td><td>-2.091735</td><td>2022</td><td>&quot;SK16 4&quot;</td></tr><tr><td>&quot;{2ACACE8D-02B4…</td><td>278000.0</td><td>2024-11-29</td><td>&quot;SK6 1QW&quot;</td><td>&quot;Semi Detached&quot;</td><td>&quot;Old Build&quot;</td><td>&quot;Freehold&quot;</td><td>&quot;1&quot;</td><td>&quot;&quot;</td><td>&quot;BRIAR GROVE&quot;</td><td>&quot;WOODLEY&quot;</td><td>&quot;STOCKPORT&quot;</td><td>&quot;STOCKPORT&quot;</td><td>&quot;GREATER MANCHE…</td><td>53.427355</td><td>-2.102642</td><td>2024</td><td>&quot;SK6 1&quot;</td></tr><tr><td>&quot;{01EB45EF-F1B0…</td><td>345448.0</td><td>2022-02-11</td><td>&quot;M1 2EY&quot;</td><td>&quot;Flat&quot;</td><td>&quot;New Build&quot;</td><td>&quot;Leasehold&quot;</td><td>&quot;72&quot;</td><td>&quot;FLAT 902&quot;</td><td>&quot;CHAPELTOWN STR…</td><td>&quot;&quot;</td><td>&quot;MANCHESTER&quot;</td><td>&quot;MANCHESTER&quot;</td><td>&quot;GREATER MANCHE…</td><td>53.478898</td><td>-2.224708</td><td>2022</td><td>&quot;M1 2&quot;</td></tr><tr><td>&quot;{879537F9-FB6B…</td><td>93000.0</td><td>2004-09-22</td><td>&quot;BL8 2RR&quot;</td><td>&quot;Terraced&quot;</td><td>&quot;Old Build&quot;</td><td>&quot;Leasehold&quot;</td><td>&quot;43&quot;</td><td>&quot;&quot;</td><td>&quot;NEWBOLD STREET…</td><td>&quot;BURY&quot;</td><td>&quot;BURY&quot;</td><td>&quot;BURY&quot;</td><td>&quot;GREATER MANCHE…</td><td>53.594024</td><td>-2.318071</td><td>2004</td><td>&quot;BL8 2&quot;</td></tr><tr><td>&quot;{7011B10A-2B91…</td><td>80000.0</td><td>2018-05-03</td><td>&quot;BL3 4HE&quot;</td><td>&quot;Terraced&quot;</td><td>&quot;Old Build&quot;</td><td>&quot;Freehold&quot;</td><td>&quot;243&quot;</td><td>&quot;&quot;</td><td>&quot;WILLOWS LANE&quot;</td><td>&quot;&quot;</td><td>&quot;BOLTON&quot;</td><td>&quot;BOLTON&quot;</td><td>&quot;GREATER MANCHE…</td><td>53.56682</td><td>-2.458227</td><td>2018</td><td>&quot;BL3 4&quot;</td></tr><tr><td>&hellip;</td><td>&hellip;</td><td>&hellip;</td><td>&hellip;</td><td>&hellip;</td><td>&hellip;</td><td>&hellip;</td><td>&hellip;</td><td>&hellip;</td><td>&hellip;</td><td>&hellip;</td><td>&hellip;</td><td>&hellip;</td><td>&hellip;</td><td>&hellip;</td><td>&hellip;</td><td>&hellip;</td><td>&hellip;</td></tr><tr><td>&quot;{B83BB2E2-7A4C…</td><td>94130.0</td><td>2013-05-31</td><td>&quot;M14 4EZ&quot;</td><td>&quot;Terraced&quot;</td><td>&quot;Old Build&quot;</td><td>&quot;Freehold&quot;</td><td>&quot;34&quot;</td><td>&quot;&quot;</td><td>&quot;GREAT SOUTHERN…</td><td>&quot;&quot;</td><td>&quot;MANCHESTER&quot;</td><td>&quot;MANCHESTER&quot;</td><td>&quot;GREATER MANCHE…</td><td>53.454883</td><td>-2.233151</td><td>2013</td><td>&quot;M14 4&quot;</td></tr><tr><td>&quot;{42A5A709-54F7…</td><td>142000.0</td><td>2016-09-30</td><td>&quot;BL4 8NU&quot;</td><td>&quot;Detached&quot;</td><td>&quot;Old Build&quot;</td><td>&quot;Leasehold&quot;</td><td>&quot;35&quot;</td><td>&quot;&quot;</td><td>&quot;GREENMOUNT PAR…</td><td>&quot;KEARSLEY&quot;</td><td>&quot;BOLTON&quot;</td><td>&quot;BOLTON&quot;</td><td>&quot;GREATER MANCHE…</td><td>53.54187</td><td>-2.375203</td><td>2016</td><td>&quot;BL4 8&quot;</td></tr><tr><td>&quot;{98C75471-F554…</td><td>265000.0</td><td>2019-10-04</td><td>&quot;M16 0HU&quot;</td><td>&quot;Terraced&quot;</td><td>&quot;Old Build&quot;</td><td>&quot;Leasehold&quot;</td><td>&quot;70&quot;</td><td>&quot;&quot;</td><td>&quot;WARWICK ROAD S…</td><td>&quot;&quot;</td><td>&quot;MANCHESTER&quot;</td><td>&quot;TRAFFORD&quot;</td><td>&quot;GREATER MANCHE…</td><td>53.452352</td><td>-2.281641</td><td>2019</td><td>&quot;M16 0&quot;</td></tr><tr><td>&quot;{43A28C2A-CC22…</td><td>74950.0</td><td>2001-11-23</td><td>&quot;M15 5TE&quot;</td><td>&quot;Terraced&quot;</td><td>&quot;Old Build&quot;</td><td>&quot;Leasehold&quot;</td><td>&quot;15&quot;</td><td>&quot;&quot;</td><td>&quot;OLD YORK STREE…</td><td>&quot;HULME&quot;</td><td>&quot;MANCHESTER&quot;</td><td>&quot;MANCHESTER&quot;</td><td>&quot;GREATER MANCHE…</td><td>53.466086</td><td>-2.253427</td><td>2001</td><td>&quot;M15 5&quot;</td></tr><tr><td>&quot;{76EBB764-8195…</td><td>207995.0</td><td>2007-01-31</td><td>&quot;M8 5QE&quot;</td><td>&quot;Terraced&quot;</td><td>&quot;New Build&quot;</td><td>&quot;Freehold&quot;</td><td>&quot;23&quot;</td><td>&quot;&quot;</td><td>&quot;SADDLECOTE CLO…</td><td>&quot;MANCHESTER&quot;</td><td>&quot;MANCHESTER&quot;</td><td>&quot;MANCHESTER&quot;</td><td>&quot;GREATER MANCHE…</td><td>53.513199</td><td>-2.228599</td><td>2007</td><td>&quot;M8 5&quot;</td></tr></tbody></table></div>"
      ],
      "text/plain": [
       "shape: (1_307_289, 18)\n",
       "┌──────────────┬──────────┬────────────┬──────────┬───┬───────────┬───────────┬──────┬─────────────┐\n",
       "│ id           ┆ price    ┆ date       ┆ postcode ┆ … ┆ lat       ┆ long      ┆ year ┆ postal_sect │\n",
       "│ ---          ┆ ---      ┆ ---        ┆ ---      ┆   ┆ ---       ┆ ---       ┆ ---  ┆ or          │\n",
       "│ str          ┆ f64      ┆ date       ┆ str      ┆   ┆ f64       ┆ f64       ┆ i32  ┆ ---         │\n",
       "│              ┆          ┆            ┆          ┆   ┆           ┆           ┆      ┆ str         │\n",
       "╞══════════════╪══════════╪════════════╪══════════╪═══╪═══════════╪═══════════╪══════╪═════════════╡\n",
       "│ {D93B27B1-CB ┆ 140000.0 ┆ 2022-02-16 ┆ SK16 4DT ┆ … ┆ 53.477466 ┆ -2.091735 ┆ 2022 ┆ SK16 4      │\n",
       "│ D4-3100-E053 ┆          ┆            ┆          ┆   ┆           ┆           ┆      ┆             │\n",
       "│ -6C04A8C…    ┆          ┆            ┆          ┆   ┆           ┆           ┆      ┆             │\n",
       "│ {2ACACE8D-02 ┆ 278000.0 ┆ 2024-11-29 ┆ SK6 1QW  ┆ … ┆ 53.427355 ┆ -2.102642 ┆ 2024 ┆ SK6 1       │\n",
       "│ B4-295E-E063 ┆          ┆            ┆          ┆   ┆           ┆           ┆      ┆             │\n",
       "│ -4804A8C…    ┆          ┆            ┆          ┆   ┆           ┆           ┆      ┆             │\n",
       "│ {01EB45EF-F1 ┆ 345448.0 ┆ 2022-02-11 ┆ M1 2EY   ┆ … ┆ 53.478898 ┆ -2.224708 ┆ 2022 ┆ M1 2        │\n",
       "│ B0-40F3-E063 ┆          ┆            ┆          ┆   ┆           ┆           ┆      ┆             │\n",
       "│ -4704A8C…    ┆          ┆            ┆          ┆   ┆           ┆           ┆      ┆             │\n",
       "│ {879537F9-FB ┆ 93000.0  ┆ 2004-09-22 ┆ BL8 2RR  ┆ … ┆ 53.594024 ┆ -2.318071 ┆ 2004 ┆ BL8 2       │\n",
       "│ 6B-4663-A0E5 ┆          ┆            ┆          ┆   ┆           ┆           ┆      ┆             │\n",
       "│ -5E4075D…    ┆          ┆            ┆          ┆   ┆           ┆           ┆      ┆             │\n",
       "│ {7011B10A-2B ┆ 80000.0  ┆ 2018-05-03 ┆ BL3 4HE  ┆ … ┆ 53.56682  ┆ -2.458227 ┆ 2018 ┆ BL3 4       │\n",
       "│ 91-8ED6-E053 ┆          ┆            ┆          ┆   ┆           ┆           ┆      ┆             │\n",
       "│ -6B04A8C…    ┆          ┆            ┆          ┆   ┆           ┆           ┆      ┆             │\n",
       "│ …            ┆ …        ┆ …          ┆ …        ┆ … ┆ …         ┆ …         ┆ …    ┆ …           │\n",
       "│ {B83BB2E2-7A ┆ 94130.0  ┆ 2013-05-31 ┆ M14 4EZ  ┆ … ┆ 53.454883 ┆ -2.233151 ┆ 2013 ┆ M14 4       │\n",
       "│ 4C-41E6-A67B ┆          ┆            ┆          ┆   ┆           ┆           ┆      ┆             │\n",
       "│ -1CBE9D1…    ┆          ┆            ┆          ┆   ┆           ┆           ┆      ┆             │\n",
       "│ {42A5A709-54 ┆ 142000.0 ┆ 2016-09-30 ┆ BL4 8NU  ┆ … ┆ 53.54187  ┆ -2.375203 ┆ 2016 ┆ BL4 8       │\n",
       "│ F7-56E8-E050 ┆          ┆            ┆          ┆   ┆           ┆           ┆      ┆             │\n",
       "│ -A8C0620…    ┆          ┆            ┆          ┆   ┆           ┆           ┆      ┆             │\n",
       "│ {98C75471-F5 ┆ 265000.0 ┆ 2019-10-04 ┆ M16 0HU  ┆ … ┆ 53.452352 ┆ -2.281641 ┆ 2019 ┆ M16 0       │\n",
       "│ 54-72E9-E053 ┆          ┆            ┆          ┆   ┆           ┆           ┆      ┆             │\n",
       "│ -6B04A8C…    ┆          ┆            ┆          ┆   ┆           ┆           ┆      ┆             │\n",
       "│ {43A28C2A-CC ┆ 74950.0  ┆ 2001-11-23 ┆ M15 5TE  ┆ … ┆ 53.466086 ┆ -2.253427 ┆ 2001 ┆ M15 5       │\n",
       "│ 22-4DEA-A303 ┆          ┆            ┆          ┆   ┆           ┆           ┆      ┆             │\n",
       "│ -98C9B59…    ┆          ┆            ┆          ┆   ┆           ┆           ┆      ┆             │\n",
       "│ {76EBB764-81 ┆ 207995.0 ┆ 2007-01-31 ┆ M8 5QE   ┆ … ┆ 53.513199 ┆ -2.228599 ┆ 2007 ┆ M8 5        │\n",
       "│ 95-4007-847E ┆          ┆            ┆          ┆   ┆           ┆           ┆      ┆             │\n",
       "│ -C149A83…    ┆          ┆            ┆          ┆   ┆           ┆           ┆      ┆             │\n",
       "└──────────────┴──────────┴────────────┴──────────┴───┴───────────┴───────────┴──────┴─────────────┘"
      ]
     },
     "execution_count": 8,
     "metadata": {},
     "output_type": "execute_result"
    }
   ],
   "source": [
    "import polars as pl\n",
    "# load parquet into clean_df\n",
    "clean_df = pl.read_parquet(\"../data/clean_property_data.parquet\")\n",
    "# validate that has worked\n",
    "clean_df"
   ]
  },
  {
   "cell_type": "markdown",
   "metadata": {},
   "source": [
    "### Q1. What are the top 10 most expensive detached homes sold as Freehold in Manchester City after 2010?"
   ]
  },
  {
   "cell_type": "markdown",
   "metadata": {},
   "source": [
    "The goal of this question is to find the top 10 most expensive detached properties sold as Freehold in Manchester City after 2010. I will filter the dataframe for detached, freehold properties, in manchester after 2010. Then I will sort price by decsending and limit by 10. \n",
    "\n",
    "(think about how i want to present this finding, what data is relevant)"
   ]
  },
  {
   "cell_type": "code",
   "execution_count": 9,
   "metadata": {},
   "outputs": [
    {
     "data": {
      "text/html": [
       "<div><style>\n",
       ".dataframe > thead > tr,\n",
       ".dataframe > tbody > tr {\n",
       "  text-align: right;\n",
       "  white-space: pre-wrap;\n",
       "}\n",
       "</style>\n",
       "<small>shape: (10, 18)</small><table border=\"1\" class=\"dataframe\"><thead><tr><th>id</th><th>price</th><th>date</th><th>postcode</th><th>property_type</th><th>new</th><th>duration</th><th>paon</th><th>saon</th><th>street</th><th>locality</th><th>town_city</th><th>district</th><th>county</th><th>lat</th><th>long</th><th>year</th><th>postal_sector</th></tr><tr><td>str</td><td>f64</td><td>date</td><td>str</td><td>str</td><td>str</td><td>str</td><td>str</td><td>str</td><td>str</td><td>str</td><td>str</td><td>str</td><td>str</td><td>f64</td><td>f64</td><td>i32</td><td>str</td></tr></thead><tbody><tr><td>&quot;{919FEC06-206B…</td><td>5.5e6</td><td>2019-06-05</td><td>&quot;M20 2PP&quot;</td><td>&quot;Detached&quot;</td><td>&quot;Old Build&quot;</td><td>&quot;Freehold&quot;</td><td>&quot;SILVERWOOD HOU…</td><td>&quot;&quot;</td><td>&quot;BARLOW MOOR RO…</td><td>&quot;&quot;</td><td>&quot;MANCHESTER&quot;</td><td>&quot;MANCHESTER&quot;</td><td>&quot;GREATER MANCHE…</td><td>53.420993</td><td>-2.243228</td><td>2019</td><td>&quot;M20 2&quot;</td></tr><tr><td>&quot;{EED73E76-92B1…</td><td>5.2e6</td><td>2021-11-26</td><td>&quot;M1 5NP&quot;</td><td>&quot;Detached&quot;</td><td>&quot;Old Build&quot;</td><td>&quot;Freehold&quot;</td><td>&quot;7 - 9&quot;</td><td>&quot;&quot;</td><td>&quot;NEW WAKEFIELD …</td><td>&quot;&quot;</td><td>&quot;MANCHESTER&quot;</td><td>&quot;MANCHESTER&quot;</td><td>&quot;GREATER MANCHE…</td><td>53.473533</td><td>-2.242638</td><td>2021</td><td>&quot;M1 5&quot;</td></tr><tr><td>&quot;{404A5AF4-5B8E…</td><td>4.684515e6</td><td>2016-09-30</td><td>&quot;M9 4LA&quot;</td><td>&quot;Detached&quot;</td><td>&quot;Old Build&quot;</td><td>&quot;Freehold&quot;</td><td>&quot;145&quot;</td><td>&quot;&quot;</td><td>&quot;CHURCH LANE&quot;</td><td>&quot;&quot;</td><td>&quot;MANCHESTER&quot;</td><td>&quot;MANCHESTER&quot;</td><td>&quot;GREATER MANCHE…</td><td>53.509205</td><td>-2.205749</td><td>2016</td><td>&quot;M9 4&quot;</td></tr><tr><td>&quot;{2FD36066-57B8…</td><td>4.412e6</td><td>2016-02-24</td><td>&quot;M1 3FH&quot;</td><td>&quot;Detached&quot;</td><td>&quot;Old Build&quot;</td><td>&quot;Freehold&quot;</td><td>&quot;ARTHUR HOUSE&quot;</td><td>&quot;&quot;</td><td>&quot;CHORLTON STREE…</td><td>&quot;&quot;</td><td>&quot;MANCHESTER&quot;</td><td>&quot;MANCHESTER&quot;</td><td>&quot;GREATER MANCHE…</td><td>53.478577</td><td>-2.237273</td><td>2016</td><td>&quot;M1 3&quot;</td></tr><tr><td>&quot;{1775CCF7-2793…</td><td>3.185e6</td><td>2023-12-19</td><td>&quot;M20 2RQ&quot;</td><td>&quot;Detached&quot;</td><td>&quot;Old Build&quot;</td><td>&quot;Freehold&quot;</td><td>&quot;STENNER BROW&quot;</td><td>&quot;&quot;</td><td>&quot;STENNER LANE&quot;</td><td>&quot;&quot;</td><td>&quot;MANCHESTER&quot;</td><td>&quot;MANCHESTER&quot;</td><td>&quot;GREATER MANCHE…</td><td>53.409996</td><td>-2.231807</td><td>2023</td><td>&quot;M20 2&quot;</td></tr><tr><td>&quot;{CFC9085C-95B5…</td><td>2.7e6</td><td>2021-07-30</td><td>&quot;M28 2NT&quot;</td><td>&quot;Detached&quot;</td><td>&quot;Old Build&quot;</td><td>&quot;Freehold&quot;</td><td>&quot;94&quot;</td><td>&quot;&quot;</td><td>&quot;CHATSWORTH ROA…</td><td>&quot;WORSLEY&quot;</td><td>&quot;MANCHESTER&quot;</td><td>&quot;SALFORD&quot;</td><td>&quot;GREATER MANCHE…</td><td>53.50101</td><td>-2.36049</td><td>2021</td><td>&quot;M28 2&quot;</td></tr><tr><td>&quot;{F87E72F9-DE63…</td><td>2.575e6</td><td>2022-06-27</td><td>&quot;M28 2WT&quot;</td><td>&quot;Detached&quot;</td><td>&quot;Old Build&quot;</td><td>&quot;Freehold&quot;</td><td>&quot;46&quot;</td><td>&quot;&quot;</td><td>&quot;CHATSWORTH ROA…</td><td>&quot;WORSLEY&quot;</td><td>&quot;MANCHESTER&quot;</td><td>&quot;SALFORD&quot;</td><td>&quot;GREATER MANCHE…</td><td>53.502071</td><td>-2.357243</td><td>2022</td><td>&quot;M28 2&quot;</td></tr><tr><td>&quot;{DBA933F9-5C72…</td><td>2.5e6</td><td>2022-03-02</td><td>&quot;M45 7BX&quot;</td><td>&quot;Detached&quot;</td><td>&quot;Old Build&quot;</td><td>&quot;Freehold&quot;</td><td>&quot;5&quot;</td><td>&quot;&quot;</td><td>&quot;RINGLEY DRIVE&quot;</td><td>&quot;WHITEFIELD&quot;</td><td>&quot;MANCHESTER&quot;</td><td>&quot;BURY&quot;</td><td>&quot;GREATER MANCHE…</td><td>53.546584</td><td>-2.304404</td><td>2022</td><td>&quot;M45 7&quot;</td></tr><tr><td>&quot;{D22473F5-8A93…</td><td>2.3e6</td><td>2021-09-10</td><td>&quot;M28 2WT&quot;</td><td>&quot;Detached&quot;</td><td>&quot;Old Build&quot;</td><td>&quot;Freehold&quot;</td><td>&quot;46&quot;</td><td>&quot;&quot;</td><td>&quot;CHATSWORTH ROA…</td><td>&quot;WORSLEY&quot;</td><td>&quot;MANCHESTER&quot;</td><td>&quot;SALFORD&quot;</td><td>&quot;GREATER MANCHE…</td><td>53.502071</td><td>-2.357243</td><td>2021</td><td>&quot;M28 2&quot;</td></tr><tr><td>&quot;{E7B085FC-292F…</td><td>2.2e6</td><td>2022-05-12</td><td>&quot;M28 2WH&quot;</td><td>&quot;Detached&quot;</td><td>&quot;Old Build&quot;</td><td>&quot;Freehold&quot;</td><td>&quot;472&quot;</td><td>&quot;&quot;</td><td>&quot;WALKDEN ROAD&quot;</td><td>&quot;WORSLEY&quot;</td><td>&quot;MANCHESTER&quot;</td><td>&quot;SALFORD&quot;</td><td>&quot;GREATER MANCHE…</td><td>53.504282</td><td>-2.386119</td><td>2022</td><td>&quot;M28 2&quot;</td></tr></tbody></table></div>"
      ],
      "text/plain": [
       "shape: (10, 18)\n",
       "┌─────────────┬────────────┬────────────┬──────────┬───┬───────────┬───────────┬──────┬────────────┐\n",
       "│ id          ┆ price      ┆ date       ┆ postcode ┆ … ┆ lat       ┆ long      ┆ year ┆ postal_sec │\n",
       "│ ---         ┆ ---        ┆ ---        ┆ ---      ┆   ┆ ---       ┆ ---       ┆ ---  ┆ tor        │\n",
       "│ str         ┆ f64        ┆ date       ┆ str      ┆   ┆ f64       ┆ f64       ┆ i32  ┆ ---        │\n",
       "│             ┆            ┆            ┆          ┆   ┆           ┆           ┆      ┆ str        │\n",
       "╞═════════════╪════════════╪════════════╪══════════╪═══╪═══════════╪═══════════╪══════╪════════════╡\n",
       "│ {919FEC06-2 ┆ 5.5e6      ┆ 2019-06-05 ┆ M20 2PP  ┆ … ┆ 53.420993 ┆ -2.243228 ┆ 2019 ┆ M20 2      │\n",
       "│ 06B-9A90-E0 ┆            ┆            ┆          ┆   ┆           ┆           ┆      ┆            │\n",
       "│ 53-6C04A8C… ┆            ┆            ┆          ┆   ┆           ┆           ┆      ┆            │\n",
       "│ {EED73E76-9 ┆ 5.2e6      ┆ 2021-11-26 ┆ M1 5NP   ┆ … ┆ 53.473533 ┆ -2.242638 ┆ 2021 ┆ M1 5       │\n",
       "│ 2B1-6AF3-E0 ┆            ┆            ┆          ┆   ┆           ┆           ┆      ┆            │\n",
       "│ 53-6C04A8C… ┆            ┆            ┆          ┆   ┆           ┆           ┆      ┆            │\n",
       "│ {404A5AF4-5 ┆ 4.684515e6 ┆ 2016-09-30 ┆ M9 4LA   ┆ … ┆ 53.509205 ┆ -2.205749 ┆ 2016 ┆ M9 4       │\n",
       "│ B8E-CD2B-E0 ┆            ┆            ┆          ┆   ┆           ┆           ┆      ┆            │\n",
       "│ 50-A8C0630… ┆            ┆            ┆          ┆   ┆           ┆           ┆      ┆            │\n",
       "│ {2FD36066-5 ┆ 4.412e6    ┆ 2016-02-24 ┆ M1 3FH   ┆ … ┆ 53.478577 ┆ -2.237273 ┆ 2016 ┆ M1 3       │\n",
       "│ 7B8-4BF8-E0 ┆            ┆            ┆          ┆   ┆           ┆           ┆      ┆            │\n",
       "│ 50-A8C0620… ┆            ┆            ┆          ┆   ┆           ┆           ┆      ┆            │\n",
       "│ {1775CCF7-2 ┆ 3.185e6    ┆ 2023-12-19 ┆ M20 2RQ  ┆ … ┆ 53.409996 ┆ -2.231807 ┆ 2023 ┆ M20 2      │\n",
       "│ 793-38BA-E0 ┆            ┆            ┆          ┆   ┆           ┆           ┆      ┆            │\n",
       "│ 63-4704A8C… ┆            ┆            ┆          ┆   ┆           ┆           ┆      ┆            │\n",
       "│ {CFC9085C-9 ┆ 2.7e6      ┆ 2021-07-30 ┆ M28 2NT  ┆ … ┆ 53.50101  ┆ -2.36049  ┆ 2021 ┆ M28 2      │\n",
       "│ 5B5-9A70-E0 ┆            ┆            ┆          ┆   ┆           ┆           ┆      ┆            │\n",
       "│ 53-6B04A8C… ┆            ┆            ┆          ┆   ┆           ┆           ┆      ┆            │\n",
       "│ {F87E72F9-D ┆ 2.575e6    ┆ 2022-06-27 ┆ M28 2WT  ┆ … ┆ 53.502071 ┆ -2.357243 ┆ 2022 ┆ M28 2      │\n",
       "│ E63-176C-E0 ┆            ┆            ┆          ┆   ┆           ┆           ┆      ┆            │\n",
       "│ 53-6B04A8C… ┆            ┆            ┆          ┆   ┆           ┆           ┆      ┆            │\n",
       "│ {DBA933F9-5 ┆ 2.5e6      ┆ 2022-03-02 ┆ M45 7BX  ┆ … ┆ 53.546584 ┆ -2.304404 ┆ 2022 ┆ M45 7      │\n",
       "│ C72-669D-E0 ┆            ┆            ┆          ┆   ┆           ┆           ┆      ┆            │\n",
       "│ 53-6B04A8C… ┆            ┆            ┆          ┆   ┆           ┆           ┆      ┆            │\n",
       "│ {D22473F5-8 ┆ 2.3e6      ┆ 2021-09-10 ┆ M28 2WT  ┆ … ┆ 53.502071 ┆ -2.357243 ┆ 2021 ┆ M28 2      │\n",
       "│ A93-7B40-E0 ┆            ┆            ┆          ┆   ┆           ┆           ┆      ┆            │\n",
       "│ 53-6C04A8C… ┆            ┆            ┆          ┆   ┆           ┆           ┆      ┆            │\n",
       "│ {E7B085FC-2 ┆ 2.2e6      ┆ 2022-05-12 ┆ M28 2WH  ┆ … ┆ 53.504282 ┆ -2.386119 ┆ 2022 ┆ M28 2      │\n",
       "│ 92F-7E31-E0 ┆            ┆            ┆          ┆   ┆           ┆           ┆      ┆            │\n",
       "│ 53-6C04A8C… ┆            ┆            ┆          ┆   ┆           ┆           ┆      ┆            │\n",
       "└─────────────┴────────────┴────────────┴──────────┴───┴───────────┴───────────┴──────┴────────────┘"
      ]
     },
     "execution_count": 9,
     "metadata": {},
     "output_type": "execute_result"
    }
   ],
   "source": [
    "# Filter for the constraints given in the question\n",
    "filtered_df = clean_df.filter(\n",
    "    (pl.col(\"property_type\") == \"Detached\") &\n",
    "    (pl.col(\"duration\") == \"Freehold\") &\n",
    "    (pl.col(\"town_city\").str.to_lowercase() == \"manchester\") &\n",
    "    (pl.col(\"year\") > 2010)\n",
    ")\n",
    "\n",
    "# Sort by price and show top 10\n",
    "top_10_df = filtered_df.sort(\"price\", descending=True).head(10)\n",
    "top_10_df\n"
   ]
  },
  {
   "cell_type": "markdown",
   "metadata": {},
   "source": [
    "### Q2. What are the top 5 most expensive postal sectors (postal sectors are the section of the postal code after the area sector: examples include M1 3, M1 4) in the Salford district between March 2012 and September 2015?\n",
    "\n",
    "To answer this question I will filter the data set for isolated properties in the Salford district between the dates March 1st 2012 and September 30th 2015.  I will group by the derived postal sector column I created during cleaning and calculate the average price per sector, rounded to two decimal places. Finally, return the top 5 sectors. \n",
    "\n",
    "This outlines the most expensive postal sector in Salford by average price during the timeframe provided. \n",
    "\n",
    "used cast(str) method to turn float into str and map_elements(lamba s: f\"£{s}\") to prepend the pound sign. Making it display ready."
   ]
  },
  {
   "cell_type": "code",
   "execution_count": 14,
   "metadata": {},
   "outputs": [
    {
     "data": {
      "text/html": [
       "<div><style>\n",
       ".dataframe > thead > tr,\n",
       ".dataframe > tbody > tr {\n",
       "  text-align: right;\n",
       "  white-space: pre-wrap;\n",
       "}\n",
       "</style>\n",
       "<small>shape: (5, 2)</small><table border=\"1\" class=\"dataframe\"><thead><tr><th>postal_sector</th><th>avg_price</th></tr><tr><td>str</td><td>str</td></tr></thead><tbody><tr><td>&quot;M30 0&quot;</td><td>&quot;£97422.03&quot;</td></tr><tr><td>&quot;M5 5&quot;</td><td>&quot;£90654.8&quot;</td></tr><tr><td>&quot;M50 1&quot;</td><td>&quot;£87926.18&quot;</td></tr><tr><td>&quot;M38 0&quot;</td><td>&quot;£86810.21&quot;</td></tr><tr><td>&quot;M6 6&quot;</td><td>&quot;£85652.37&quot;</td></tr></tbody></table></div>"
      ],
      "text/plain": [
       "shape: (5, 2)\n",
       "┌───────────────┬───────────┐\n",
       "│ postal_sector ┆ avg_price │\n",
       "│ ---           ┆ ---       │\n",
       "│ str           ┆ str       │\n",
       "╞═══════════════╪═══════════╡\n",
       "│ M30 0         ┆ £97422.03 │\n",
       "│ M5 5          ┆ £90654.8  │\n",
       "│ M50 1         ┆ £87926.18 │\n",
       "│ M38 0         ┆ £86810.21 │\n",
       "│ M6 6          ┆ £85652.37 │\n",
       "└───────────────┴───────────┘"
      ]
     },
     "execution_count": 14,
     "metadata": {},
     "output_type": "execute_result"
    }
   ],
   "source": [
    "from datetime import date\n",
    "\n",
    "# Filter for Salford district and date range\n",
    "salford_df = clean_df.filter(\n",
    "    (pl.col(\"district\").str.to_lowercase() == \"salford\") &\n",
    "    (pl.col(\"date\") >= date(2012, 3, 1)) &\n",
    "    (pl.col(\"date\") <= date(2015, 9, 30))\n",
    ")\n",
    "\n",
    "# Group by postal sector and calculate average price\n",
    "top_sectors = (\n",
    "    salford_df.group_by(\"postal_sector\")\n",
    "    .agg(pl.col(\"price\").mean().round(2).cast(str).map_elements(lambda s: f\"£{s}\").alias(\"avg_price\"))\n",
    "    .sort(\"avg_price\", descending=True)\n",
    "    .head(5)\n",
    ")\n",
    "\n",
    "top_sectors\n"
   ]
  },
  {
   "cell_type": "markdown",
   "metadata": {},
   "source": [
    "### Q3: Where in Greater Manchester Are the Most Residential Homes Being Built Over the Past 10 Years?\n",
    "\n",
    "To address this question, I filtered the dataset for transactions between **2014 and 2024**, focusing on properties marked as `\"New Build\"` in the `new` column. I excluded `\"Other\"` property types to approximate residential homes. Grouping by `district` and counting the number of new build transactions provides a reasonable proxy for where residential construction has been most active across Greater Manchester over the past decade.\n"
   ]
  },
  {
   "cell_type": "code",
   "execution_count": 19,
   "metadata": {},
   "outputs": [
    {
     "data": {
      "text/html": [
       "<div><style>\n",
       ".dataframe > thead > tr,\n",
       ".dataframe > tbody > tr {\n",
       "  text-align: right;\n",
       "  white-space: pre-wrap;\n",
       "}\n",
       "</style>\n",
       "<small>shape: (10, 2)</small><table border=\"1\" class=\"dataframe\"><thead><tr><th>district</th><th>new_build_sales</th></tr><tr><td>str</td><td>u32</td></tr></thead><tbody><tr><td>&quot;SALFORD&quot;</td><td>13536</td></tr><tr><td>&quot;MANCHESTER&quot;</td><td>12507</td></tr><tr><td>&quot;WIGAN&quot;</td><td>7387</td></tr><tr><td>&quot;TRAFFORD&quot;</td><td>3699</td></tr><tr><td>&quot;ROCHDALE&quot;</td><td>3663</td></tr><tr><td>&quot;STOCKPORT&quot;</td><td>3461</td></tr><tr><td>&quot;TAMESIDE&quot;</td><td>3040</td></tr><tr><td>&quot;BOLTON&quot;</td><td>2978</td></tr><tr><td>&quot;BURY&quot;</td><td>1752</td></tr><tr><td>&quot;OLDHAM&quot;</td><td>1734</td></tr></tbody></table></div>"
      ],
      "text/plain": [
       "shape: (10, 2)\n",
       "┌────────────┬─────────────────┐\n",
       "│ district   ┆ new_build_sales │\n",
       "│ ---        ┆ ---             │\n",
       "│ str        ┆ u32             │\n",
       "╞════════════╪═════════════════╡\n",
       "│ SALFORD    ┆ 13536           │\n",
       "│ MANCHESTER ┆ 12507           │\n",
       "│ WIGAN      ┆ 7387            │\n",
       "│ TRAFFORD   ┆ 3699            │\n",
       "│ ROCHDALE   ┆ 3663            │\n",
       "│ STOCKPORT  ┆ 3461            │\n",
       "│ TAMESIDE   ┆ 3040            │\n",
       "│ BOLTON     ┆ 2978            │\n",
       "│ BURY       ┆ 1752            │\n",
       "│ OLDHAM     ┆ 1734            │\n",
       "└────────────┴─────────────────┘"
      ]
     },
     "execution_count": 19,
     "metadata": {},
     "output_type": "execute_result"
    }
   ],
   "source": [
    "from datetime import date\n",
    "\n",
    "# Filter for new residential builds sold between 2014 and 2024\n",
    "new_builds_10yr = clean_df.filter(\n",
    "    (pl.col(\"date\") >= date(2014, 1, 1)) &\n",
    "    (pl.col(\"date\") <= date(2024, 12, 31)) &\n",
    "    (pl.col(\"new\") == \"New Build\") &\n",
    "    (pl.col(\"property_type\") != \"Other\")\n",
    ")\n",
    "\n",
    "# Count new build transactions per district\n",
    "top_build_districts = (\n",
    "    new_builds_10yr.group_by(\"district\")\n",
    "    .agg(pl.len().alias(\"new_build_sales\"))\n",
    "    .sort(\"new_build_sales\", descending=True)\n",
    ")\n",
    "\n",
    "top_build_districts.head(10)\n"
   ]
  },
  {
   "cell_type": "markdown",
   "metadata": {},
   "source": [
    "### Q4: What was the most expensive non-residential property sold in Greater Manchester in 2017? Find and share context about this sale.\n",
    "\n",
    "For this question, I focused on transactions from **2017**, specifically looking at non-residential properties categorized as \"Other\" in the Greater Manchester area. I sorted the prices in descending order and identified \"The Printworks\" as the top property. After conducting some research, I discovered that it was sold to DTZ investors in 2017 for £108 billion."
   ]
  },
  {
   "cell_type": "code",
   "execution_count": 23,
   "metadata": {},
   "outputs": [
    {
     "data": {
      "text/html": [
       "<div><style>\n",
       ".dataframe > thead > tr,\n",
       ".dataframe > tbody > tr {\n",
       "  text-align: right;\n",
       "  white-space: pre-wrap;\n",
       "}\n",
       "</style>\n",
       "<small>shape: (1, 18)</small><table border=\"1\" class=\"dataframe\"><thead><tr><th>id</th><th>price</th><th>date</th><th>postcode</th><th>property_type</th><th>new</th><th>duration</th><th>paon</th><th>saon</th><th>street</th><th>locality</th><th>town_city</th><th>district</th><th>county</th><th>lat</th><th>long</th><th>year</th><th>postal_sector</th></tr><tr><td>str</td><td>f64</td><td>date</td><td>str</td><td>str</td><td>str</td><td>str</td><td>str</td><td>str</td><td>str</td><td>str</td><td>str</td><td>str</td><td>str</td><td>f64</td><td>f64</td><td>i32</td><td>str</td></tr></thead><tbody><tr><td>&quot;{55BDCAE6-D4D7…</td><td>1.07086856e8</td><td>2017-02-17</td><td>&quot;M4 2BS&quot;</td><td>&quot;Other (Non Res…</td><td>&quot;Old Build&quot;</td><td>&quot;Freehold&quot;</td><td>&quot;THE PRINTWORKS…</td><td>&quot;&quot;</td><td>&quot;WITHY GROVE&quot;</td><td>&quot;&quot;</td><td>&quot;MANCHESTER&quot;</td><td>&quot;MANCHESTER&quot;</td><td>&quot;GREATER MANCHE…</td><td>53.485185</td><td>-2.240775</td><td>2017</td><td>&quot;M4 2&quot;</td></tr></tbody></table></div>"
      ],
      "text/plain": [
       "shape: (1, 18)\n",
       "┌─────────────┬────────────┬────────────┬──────────┬───┬───────────┬───────────┬──────┬────────────┐\n",
       "│ id          ┆ price      ┆ date       ┆ postcode ┆ … ┆ lat       ┆ long      ┆ year ┆ postal_sec │\n",
       "│ ---         ┆ ---        ┆ ---        ┆ ---      ┆   ┆ ---       ┆ ---       ┆ ---  ┆ tor        │\n",
       "│ str         ┆ f64        ┆ date       ┆ str      ┆   ┆ f64       ┆ f64       ┆ i32  ┆ ---        │\n",
       "│             ┆            ┆            ┆          ┆   ┆           ┆           ┆      ┆ str        │\n",
       "╞═════════════╪════════════╪════════════╪══════════╪═══╪═══════════╪═══════════╪══════╪════════════╡\n",
       "│ {55BDCAE6-D ┆ 1.07086856 ┆ 2017-02-17 ┆ M4 2BS   ┆ … ┆ 53.485185 ┆ -2.240775 ┆ 2017 ┆ M4 2       │\n",
       "│ 4D7-521D-E0 ┆ e8         ┆            ┆          ┆   ┆           ┆           ┆      ┆            │\n",
       "│ 53-6B04A8C… ┆            ┆            ┆          ┆   ┆           ┆           ┆      ┆            │\n",
       "└─────────────┴────────────┴────────────┴──────────┴───┴───────────┴───────────┴──────┴────────────┘"
      ]
     },
     "execution_count": 23,
     "metadata": {},
     "output_type": "execute_result"
    }
   ],
   "source": [
    "from datetime import date\n",
    "\n",
    "# Filter for non-residential properties sold in Greater Manchester in 2017\n",
    "non_res_2017 = clean_df.filter(\n",
    "    (pl.col(\"year\") == 2017) &\n",
    "    (pl.col(\"county\").str.to_lowercase() == \"greater manchester\") &\n",
    "    (pl.col(\"property_type\") == \"Other (Non Residential)\")\n",
    ")\n",
    "\n",
    "# Find the most expensive sale\n",
    "top_non_res = (\n",
    "    non_res_2017.sort(\"price\", descending=True)\n",
    "    .head(1)\n",
    ")\n",
    "\n",
    "top_non_res\n"
   ]
  },
  {
   "cell_type": "markdown",
   "metadata": {},
   "source": [
    "### Q5: Which Residential Building Types Are Experiencing the Most Significant Proportional Increase in Prices?\n",
    "\n",
    "This question is looking at trend analysis. It's not focused on which property type is most expensive but instead which types have grown most in value, it's about relative change, not price. \n",
    "\n",
    "To address this question, I Excluded `\"Other\"` property types to concentrate solely on residential buildings, grouped the data by `property_type` and `year` to compute the **average price per type for each year**, pivoted the data for a clearer comparison of prices across different years, measured the **proportional change** in average price between the earliest and most recent years, and sorted the outcomes to determine which building types experienced the largest relative growth.\n",
    "\n",
    "This analysis highlights which residential categories, such as `\"Flat\"`, `\"Detached\"`, and `\"Terraced\"` have appreciated the most over time."
   ]
  },
  {
   "cell_type": "code",
   "execution_count": 27,
   "metadata": {},
   "outputs": [
    {
     "data": {
      "text/html": [
       "<div><style>\n",
       ".dataframe > thead > tr,\n",
       ".dataframe > tbody > tr {\n",
       "  text-align: right;\n",
       "  white-space: pre-wrap;\n",
       "}\n",
       "</style>\n",
       "<small>shape: (5, 2)</small><table border=\"1\" class=\"dataframe\"><thead><tr><th>property_type</th><th>proportional_change</th></tr><tr><td>str</td><td>f64</td></tr></thead><tbody><tr><td>&quot;Semi Detached&quot;</td><td>31683.856447</td></tr><tr><td>&quot;Other (Non Res…</td><td>4023.109029</td></tr><tr><td>&quot;Terraced&quot;</td><td>4.795267</td></tr><tr><td>&quot;Detached&quot;</td><td>3.564011</td></tr><tr><td>&quot;Flat&quot;</td><td>3.442181</td></tr></tbody></table></div>"
      ],
      "text/plain": [
       "shape: (5, 2)\n",
       "┌─────────────────────────┬─────────────────────┐\n",
       "│ property_type           ┆ proportional_change │\n",
       "│ ---                     ┆ ---                 │\n",
       "│ str                     ┆ f64                 │\n",
       "╞═════════════════════════╪═════════════════════╡\n",
       "│ Semi Detached           ┆ 31683.856447        │\n",
       "│ Other (Non Residential) ┆ 4023.109029         │\n",
       "│ Terraced                ┆ 4.795267            │\n",
       "│ Detached                ┆ 3.564011            │\n",
       "│ Flat                    ┆ 3.442181            │\n",
       "└─────────────────────────┴─────────────────────┘"
      ]
     },
     "execution_count": 27,
     "metadata": {},
     "output_type": "execute_result"
    }
   ],
   "source": [
    "# Step 1: Filter out non-residential properties\n",
    "res_df = clean_df.filter(pl.col(\"property_type\") != \"Other (Non residential)\")\n",
    "\n",
    "# Step 2: Group by property type and year, calculate average price\n",
    "avg_price_by_type_year = (\n",
    "    res_df.group_by([\"property_type\", \"year\"])\n",
    "    .agg(pl.col(\"price\").mean().alias(\"avg_price\"))\n",
    ")\n",
    "\n",
    "# Step 3: Pivot to wide format\n",
    "pivoted = avg_price_by_type_year.pivot(\n",
    "    values=\"avg_price\",\n",
    "    index=\"property_type\",\n",
    "    columns=\"year\"\n",
    ")\n",
    "\n",
    "\n",
    "# Step 4: Extract year columns (they may be strings!)\n",
    "year_cols = [col for col in pivoted.columns if str(col).isdigit()]\n",
    "year_cols = sorted([int(col) for col in year_cols])\n",
    "\n",
    "# Step 5: Calculate proportional change\n",
    "start_year, end_year = year_cols[0], year_cols[-1]\n",
    "\n",
    "price_change = pivoted.with_columns(\n",
    "    (\n",
    "        (pl.col(str(end_year)) - pl.col(str(start_year))) / pl.col(str(start_year))\n",
    "    ).alias(\"proportional_change\")\n",
    ")\n",
    "\n",
    "# Step 6: Sort and display\n",
    "price_change.sort(\"proportional_change\", descending=True).select([\"property_type\", \"proportional_change\"])\n",
    "\n"
   ]
  },
  {
   "cell_type": "markdown",
   "metadata": {},
   "source": [
    "### Q6: Since 1996, what property sale(s) in Trafford was the furthest south‑east?\n",
    "\n",
    "In order to answer this question I needed to work out how to find south east using lat and long. To begin, I filtered the dataset for properties sold in Trafford since 1996. I used lat and long columns to Identify the furthest south east point, south = lowest latitude, east = highest longitude. Finally I returned the top result to inspect. \n",
    "\n"
   ]
  },
  {
   "cell_type": "code",
   "execution_count": 30,
   "metadata": {},
   "outputs": [
    {
     "data": {
      "text/html": [
       "<div><style>\n",
       ".dataframe > thead > tr,\n",
       ".dataframe > tbody > tr {\n",
       "  text-align: right;\n",
       "  white-space: pre-wrap;\n",
       "}\n",
       "</style>\n",
       "<small>shape: (1, 18)</small><table border=\"1\" class=\"dataframe\"><thead><tr><th>id</th><th>price</th><th>date</th><th>postcode</th><th>property_type</th><th>new</th><th>duration</th><th>paon</th><th>saon</th><th>street</th><th>locality</th><th>town_city</th><th>district</th><th>county</th><th>lat</th><th>long</th><th>year</th><th>postal_sector</th></tr><tr><td>str</td><td>f64</td><td>date</td><td>str</td><td>str</td><td>str</td><td>str</td><td>str</td><td>str</td><td>str</td><td>str</td><td>str</td><td>str</td><td>str</td><td>f64</td><td>f64</td><td>i32</td><td>str</td></tr></thead><tbody><tr><td>&quot;{2D4D7609-E0FA…</td><td>300.0</td><td>2023-10-04</td><td>&quot;SK9 5PN&quot;</td><td>&quot;Other (Non Res…</td><td>&quot;Old Build&quot;</td><td>&quot;Freehold&quot;</td><td>&quot;56&quot;</td><td>&quot;&quot;</td><td>&quot;BROAD WALK&quot;</td><td>&quot;&quot;</td><td>&quot;WILMSLOW&quot;</td><td>&quot;TRAFFORD&quot;</td><td>&quot;GREATER MANCHE…</td><td>53.332311</td><td>-2.248263</td><td>2023</td><td>&quot;SK9 5&quot;</td></tr></tbody></table></div>"
      ],
      "text/plain": [
       "shape: (1, 18)\n",
       "┌───────────────┬───────┬────────────┬──────────┬───┬───────────┬───────────┬──────┬───────────────┐\n",
       "│ id            ┆ price ┆ date       ┆ postcode ┆ … ┆ lat       ┆ long      ┆ year ┆ postal_sector │\n",
       "│ ---           ┆ ---   ┆ ---        ┆ ---      ┆   ┆ ---       ┆ ---       ┆ ---  ┆ ---           │\n",
       "│ str           ┆ f64   ┆ date       ┆ str      ┆   ┆ f64       ┆ f64       ┆ i32  ┆ str           │\n",
       "╞═══════════════╪═══════╪════════════╪══════════╪═══╪═══════════╪═══════════╪══════╪═══════════════╡\n",
       "│ {2D4D7609-E0F ┆ 300.0 ┆ 2023-10-04 ┆ SK9 5PN  ┆ … ┆ 53.332311 ┆ -2.248263 ┆ 2023 ┆ SK9 5         │\n",
       "│ A-BDF9-E063-4 ┆       ┆            ┆          ┆   ┆           ┆           ┆      ┆               │\n",
       "│ 804A8C…       ┆       ┆            ┆          ┆   ┆           ┆           ┆      ┆               │\n",
       "└───────────────┴───────┴────────────┴──────────┴───┴───────────┴───────────┴──────┴───────────────┘"
      ]
     },
     "execution_count": 30,
     "metadata": {},
     "output_type": "execute_result"
    }
   ],
   "source": [
    "# Filter for Trafford sales since 1996\n",
    "trafford_sales = clean_df.filter(\n",
    "    (pl.col(\"year\") >= 1996) &\n",
    "    (pl.col(\"district\").str.to_lowercase() == \"trafford\")\n",
    ")\n",
    "\n",
    "# Sort by latitude ascending (south) and longitude descending (east)\n",
    "furthest_se = (\n",
    "    trafford_sales.sort(\n",
    "        by=[\"lat\", \"long\"],\n",
    "        descending=[False, True]  # south = low lat, east = high long\n",
    "    )\n",
    "    .head(1)\n",
    ")\n",
    "\n",
    "# Select key columns for context\n",
    "furthest_se\n"
   ]
  }
 ],
 "metadata": {
  "kernelspec": {
   "display_name": "venv",
   "language": "python",
   "name": "python3"
  },
  "language_info": {
   "codemirror_mode": {
    "name": "ipython",
    "version": 3
   },
   "file_extension": ".py",
   "mimetype": "text/x-python",
   "name": "python",
   "nbconvert_exporter": "python",
   "pygments_lexer": "ipython3",
   "version": "3.11.13"
  }
 },
 "nbformat": 4,
 "nbformat_minor": 2
}
