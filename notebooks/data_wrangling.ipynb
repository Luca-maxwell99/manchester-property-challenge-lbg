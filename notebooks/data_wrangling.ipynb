{
 "cells": [
  {
   "cell_type": "markdown",
   "metadata": {},
   "source": [
    "# Manchester Property Data Wrangling & Enrichment\n",
    "\n",
    "This notebook initiates the data preparation process for the Manchester Property Sales Challenge. The focus is on cleaning, transforming, and enriching the dataset to support downstream analysis and dashboard development.\n",
    "\n",
    "## Objectives\n",
    "\n",
    "- Load and preview the raw property and postcode datasets\n",
    "- Inspect schema, data types, and potential quality issues\n",
    "- Rename columns for clarity and consistency\n",
    "- Clean key fields such as `price` and `date` for analysis\n",
    "- Prepare for postcode enrichment using geospatial metadata\n",
    "- Document each transformation step with clear rationale and assumptions\n",
    "\n",
    "## Dataset Overview\n",
    "\n",
    "- `pp_data_man.parquet`: Property transaction records across Greater Manchester\n",
    "- `pc_man.parquet`: Postcode metadata including latitude and longitude\n",
    "\n",
    "## Notes\n",
    "\n",
    "- All data wrangling is performed using Polars for performance and reproducibility\n",
    "- This notebook serves as the foundation for analysis and dashboard creation\n",
    "- Each step is modular and documented to support transparency and future reuse\n"
   ]
  },
  {
   "cell_type": "markdown",
   "metadata": {},
   "source": [
    "### Step 1: Load and preview the data\n",
    "\n",
    "I begin by loading the two datasets\n",
    "- `pp_data_man.parquet` : This is property transactional records\n",
    "- `pc_man.parquet` : This data is postcode meta data for referencing geospatial data"
   ]
  },
  {
   "cell_type": "code",
   "execution_count": 42,
   "metadata": {},
   "outputs": [
    {
     "data": {
      "text/html": [
       "<div><style>\n",
       ".dataframe > thead > tr,\n",
       ".dataframe > tbody > tr {\n",
       "  text-align: right;\n",
       "  white-space: pre-wrap;\n",
       "}\n",
       "</style>\n",
       "<small>shape: (5, 3)</small><table border=\"1\" class=\"dataframe\"><thead><tr><th>pcds</th><th>lat</th><th>long</th></tr><tr><td>str</td><td>f64</td><td>f64</td></tr></thead><tbody><tr><td>&quot;AL1 3PE&quot;</td><td>51.755864</td><td>-0.327577</td></tr><tr><td>&quot;AL1 4FJ&quot;</td><td>51.761598</td><td>-0.326075</td></tr><tr><td>&quot;AL1 5UE&quot;</td><td>51.751596</td><td>-0.325894</td></tr><tr><td>&quot;AL2 1NT&quot;</td><td>51.720229</td><td>-0.295058</td></tr><tr><td>&quot;AL2 2PJ&quot;</td><td>51.721518</td><td>-0.337343</td></tr></tbody></table></div>"
      ],
      "text/plain": [
       "shape: (5, 3)\n",
       "┌─────────┬───────────┬───────────┐\n",
       "│ pcds    ┆ lat       ┆ long      │\n",
       "│ ---     ┆ ---       ┆ ---       │\n",
       "│ str     ┆ f64       ┆ f64       │\n",
       "╞═════════╪═══════════╪═══════════╡\n",
       "│ AL1 3PE ┆ 51.755864 ┆ -0.327577 │\n",
       "│ AL1 4FJ ┆ 51.761598 ┆ -0.326075 │\n",
       "│ AL1 5UE ┆ 51.751596 ┆ -0.325894 │\n",
       "│ AL2 1NT ┆ 51.720229 ┆ -0.295058 │\n",
       "│ AL2 2PJ ┆ 51.721518 ┆ -0.337343 │\n",
       "└─────────┴───────────┴───────────┘"
      ]
     },
     "execution_count": 42,
     "metadata": {},
     "output_type": "execute_result"
    }
   ],
   "source": [
    "import polars as pl\n",
    "\n",
    "# Define paths\n",
    "path1 = \"../data/pp_data_man.parquet\"\n",
    "path2 = \"../data/pc_man.parquet\"\n",
    "\n",
    "# Load datasets\n",
    "geo_df = pl.read_parquet(path2)\n",
    "prop_df = pl.read_parquet(path1)\n",
    "\n",
    "# Preview first few rows\n",
    "geo_df.head()\n"
   ]
  },
  {
   "cell_type": "code",
   "execution_count": 43,
   "metadata": {},
   "outputs": [
    {
     "data": {
      "text/html": [
       "<div><style>\n",
       ".dataframe > thead > tr,\n",
       ".dataframe > tbody > tr {\n",
       "  text-align: right;\n",
       "  white-space: pre-wrap;\n",
       "}\n",
       "</style>\n",
       "<small>shape: (5, 14)</small><table border=\"1\" class=\"dataframe\"><thead><tr><th>column_1</th><th>column_2</th><th>column_3</th><th>column_4</th><th>column_5</th><th>column_6</th><th>column_7</th><th>column_8</th><th>column_9</th><th>column_10</th><th>column_11</th><th>column_12</th><th>column_13</th><th>column_14</th></tr><tr><td>str</td><td>str</td><td>str</td><td>str</td><td>str</td><td>str</td><td>str</td><td>str</td><td>str</td><td>str</td><td>str</td><td>str</td><td>str</td><td>str</td></tr></thead><tbody><tr><td>&quot;{D93B27B1-CBD4…</td><td>&quot;140,000.00&quot;</td><td>&quot;2022-02-16 00:…</td><td>&quot;SK16 4DT&quot;</td><td>&quot;T&quot;</td><td>&quot;N&quot;</td><td>&quot;F&quot;</td><td>&quot;70&quot;</td><td>&quot;&quot;</td><td>&quot;CHAPEL STREET&quot;</td><td>&quot;&quot;</td><td>&quot;DUKINFIELD&quot;</td><td>&quot;TAMESIDE&quot;</td><td>&quot;GREATER MANCHE…</td></tr><tr><td>&quot;{2ACACE8D-02B4…</td><td>&quot;278,000.00&quot;</td><td>&quot;2024-11-29 00:…</td><td>&quot;SK6 1QW&quot;</td><td>&quot;S&quot;</td><td>&quot;N&quot;</td><td>&quot;F&quot;</td><td>&quot;1&quot;</td><td>&quot;&quot;</td><td>&quot;BRIAR GROVE&quot;</td><td>&quot;WOODLEY&quot;</td><td>&quot;STOCKPORT&quot;</td><td>&quot;STOCKPORT&quot;</td><td>&quot;GREATER MANCHE…</td></tr><tr><td>&quot;{01EB45EF-F1B0…</td><td>&quot;345,448.00&quot;</td><td>&quot;2022-02-11 00:…</td><td>&quot;M1 2EY&quot;</td><td>&quot;F&quot;</td><td>&quot;Y&quot;</td><td>&quot;L&quot;</td><td>&quot;72&quot;</td><td>&quot;FLAT 902&quot;</td><td>&quot;CHAPELTOWN STR…</td><td>&quot;&quot;</td><td>&quot;MANCHESTER&quot;</td><td>&quot;MANCHESTER&quot;</td><td>&quot;GREATER MANCHE…</td></tr><tr><td>&quot;{879537F9-FB6B…</td><td>&quot;93,000.00&quot;</td><td>&quot;2004-09-22 00:…</td><td>&quot;BL8 2RR&quot;</td><td>&quot;T&quot;</td><td>&quot;N&quot;</td><td>&quot;L&quot;</td><td>&quot;43&quot;</td><td>&quot;&quot;</td><td>&quot;NEWBOLD STREET…</td><td>&quot;BURY&quot;</td><td>&quot;BURY&quot;</td><td>&quot;BURY&quot;</td><td>&quot;GREATER MANCHE…</td></tr><tr><td>&quot;{7011B10A-2B91…</td><td>&quot;80,000.00&quot;</td><td>&quot;2018-05-03 00:…</td><td>&quot;BL3 4HE&quot;</td><td>&quot;T&quot;</td><td>&quot;N&quot;</td><td>&quot;F&quot;</td><td>&quot;243&quot;</td><td>&quot;&quot;</td><td>&quot;WILLOWS LANE&quot;</td><td>&quot;&quot;</td><td>&quot;BOLTON&quot;</td><td>&quot;BOLTON&quot;</td><td>&quot;GREATER MANCHE…</td></tr></tbody></table></div>"
      ],
      "text/plain": [
       "shape: (5, 14)\n",
       "┌───────────┬───────────┬───────────┬──────────┬───┬───────────┬───────────┬───────────┬───────────┐\n",
       "│ column_1  ┆ column_2  ┆ column_3  ┆ column_4 ┆ … ┆ column_11 ┆ column_12 ┆ column_13 ┆ column_14 │\n",
       "│ ---       ┆ ---       ┆ ---       ┆ ---      ┆   ┆ ---       ┆ ---       ┆ ---       ┆ ---       │\n",
       "│ str       ┆ str       ┆ str       ┆ str      ┆   ┆ str       ┆ str       ┆ str       ┆ str       │\n",
       "╞═══════════╪═══════════╪═══════════╪══════════╪═══╪═══════════╪═══════════╪═══════════╪═══════════╡\n",
       "│ {D93B27B1 ┆ 140,000.0 ┆ 2022-02-1 ┆ SK16 4DT ┆ … ┆           ┆ DUKINFIEL ┆ TAMESIDE  ┆ GREATER   │\n",
       "│ -CBD4-310 ┆ 0         ┆ 6 00:00   ┆          ┆   ┆           ┆ D         ┆           ┆ MANCHESTE │\n",
       "│ 0-E053-6C ┆           ┆           ┆          ┆   ┆           ┆           ┆           ┆ R         │\n",
       "│ 04A8C…    ┆           ┆           ┆          ┆   ┆           ┆           ┆           ┆           │\n",
       "│ {2ACACE8D ┆ 278,000.0 ┆ 2024-11-2 ┆ SK6 1QW  ┆ … ┆ WOODLEY   ┆ STOCKPORT ┆ STOCKPORT ┆ GREATER   │\n",
       "│ -02B4-295 ┆ 0         ┆ 9 00:00   ┆          ┆   ┆           ┆           ┆           ┆ MANCHESTE │\n",
       "│ E-E063-48 ┆           ┆           ┆          ┆   ┆           ┆           ┆           ┆ R         │\n",
       "│ 04A8C…    ┆           ┆           ┆          ┆   ┆           ┆           ┆           ┆           │\n",
       "│ {01EB45EF ┆ 345,448.0 ┆ 2022-02-1 ┆ M1 2EY   ┆ … ┆           ┆ MANCHESTE ┆ MANCHESTE ┆ GREATER   │\n",
       "│ -F1B0-40F ┆ 0         ┆ 1 00:00   ┆          ┆   ┆           ┆ R         ┆ R         ┆ MANCHESTE │\n",
       "│ 3-E063-47 ┆           ┆           ┆          ┆   ┆           ┆           ┆           ┆ R         │\n",
       "│ 04A8C…    ┆           ┆           ┆          ┆   ┆           ┆           ┆           ┆           │\n",
       "│ {879537F9 ┆ 93,000.00 ┆ 2004-09-2 ┆ BL8 2RR  ┆ … ┆ BURY      ┆ BURY      ┆ BURY      ┆ GREATER   │\n",
       "│ -FB6B-466 ┆           ┆ 2 00:00   ┆          ┆   ┆           ┆           ┆           ┆ MANCHESTE │\n",
       "│ 3-A0E5-5E ┆           ┆           ┆          ┆   ┆           ┆           ┆           ┆ R         │\n",
       "│ 4075D…    ┆           ┆           ┆          ┆   ┆           ┆           ┆           ┆           │\n",
       "│ {7011B10A ┆ 80,000.00 ┆ 2018-05-0 ┆ BL3 4HE  ┆ … ┆           ┆ BOLTON    ┆ BOLTON    ┆ GREATER   │\n",
       "│ -2B91-8ED ┆           ┆ 3 00:00   ┆          ┆   ┆           ┆           ┆           ┆ MANCHESTE │\n",
       "│ 6-E053-6B ┆           ┆           ┆          ┆   ┆           ┆           ┆           ┆ R         │\n",
       "│ 04A8C…    ┆           ┆           ┆          ┆   ┆           ┆           ┆           ┆           │\n",
       "└───────────┴───────────┴───────────┴──────────┴───┴───────────┴───────────┴───────────┴───────────┘"
      ]
     },
     "execution_count": 43,
     "metadata": {},
     "output_type": "execute_result"
    }
   ],
   "source": [
    "prop_df.head()"
   ]
  },
  {
   "cell_type": "markdown",
   "metadata": {},
   "source": [
    "### Step 2: Schema Inspection\n",
    "\n",
    "After previewing the first few rows of the property sales dataset, it's clear that the Parquet file lacks meaningful column names. All columns are currently labeled as `column_1`, `column_2`, etc., which makes exploration and cleaning difficult until proper names are assigned.\n",
    "\n",
    "Below, I inspect the schema for both dataframes to understand their structure and prepare for renaming and transformation.\n",
    "\n",
    "Fortunately, within the briefing document the column names have been given. But good practice to check myself. \n"
   ]
  },
  {
   "cell_type": "code",
   "execution_count": 44,
   "metadata": {},
   "outputs": [
    {
     "data": {
      "text/plain": [
       "OrderedDict([('pcds', String), ('lat', Float64), ('long', Float64)])"
      ]
     },
     "execution_count": 44,
     "metadata": {},
     "output_type": "execute_result"
    }
   ],
   "source": [
    "# Schema Inspection\n",
    "\n",
    "geo_df.schema\n"
   ]
  },
  {
   "cell_type": "code",
   "execution_count": 45,
   "metadata": {},
   "outputs": [
    {
     "data": {
      "text/plain": [
       "OrderedDict([('column_1', String),\n",
       "             ('column_2', String),\n",
       "             ('column_3', String),\n",
       "             ('column_4', String),\n",
       "             ('column_5', String),\n",
       "             ('column_6', String),\n",
       "             ('column_7', String),\n",
       "             ('column_8', String),\n",
       "             ('column_9', String),\n",
       "             ('column_10', String),\n",
       "             ('column_11', String),\n",
       "             ('column_12', String),\n",
       "             ('column_13', String),\n",
       "             ('column_14', String)])"
      ]
     },
     "execution_count": 45,
     "metadata": {},
     "output_type": "execute_result"
    }
   ],
   "source": [
    "prop_df.schema"
   ]
  },
  {
   "cell_type": "code",
   "execution_count": 46,
   "metadata": {},
   "outputs": [
    {
     "data": {
      "text/html": [
       "<div><style>\n",
       ".dataframe > thead > tr,\n",
       ".dataframe > tbody > tr {\n",
       "  text-align: right;\n",
       "  white-space: pre-wrap;\n",
       "}\n",
       "</style>\n",
       "<small>shape: (5, 14)</small><table border=\"1\" class=\"dataframe\"><thead><tr><th>column_1</th><th>column_2</th><th>column_3</th><th>column_4</th><th>column_5</th><th>column_6</th><th>column_7</th><th>column_8</th><th>column_9</th><th>column_10</th><th>column_11</th><th>column_12</th><th>column_13</th><th>column_14</th></tr><tr><td>str</td><td>str</td><td>str</td><td>str</td><td>str</td><td>str</td><td>str</td><td>str</td><td>str</td><td>str</td><td>str</td><td>str</td><td>str</td><td>str</td></tr></thead><tbody><tr><td>&quot;{D93B27B1-CBD4…</td><td>&quot;140,000.00&quot;</td><td>&quot;2022-02-16 00:…</td><td>&quot;SK16 4DT&quot;</td><td>&quot;T&quot;</td><td>&quot;N&quot;</td><td>&quot;F&quot;</td><td>&quot;70&quot;</td><td>&quot;&quot;</td><td>&quot;CHAPEL STREET&quot;</td><td>&quot;&quot;</td><td>&quot;DUKINFIELD&quot;</td><td>&quot;TAMESIDE&quot;</td><td>&quot;GREATER MANCHE…</td></tr><tr><td>&quot;{2ACACE8D-02B4…</td><td>&quot;278,000.00&quot;</td><td>&quot;2024-11-29 00:…</td><td>&quot;SK6 1QW&quot;</td><td>&quot;S&quot;</td><td>&quot;N&quot;</td><td>&quot;F&quot;</td><td>&quot;1&quot;</td><td>&quot;&quot;</td><td>&quot;BRIAR GROVE&quot;</td><td>&quot;WOODLEY&quot;</td><td>&quot;STOCKPORT&quot;</td><td>&quot;STOCKPORT&quot;</td><td>&quot;GREATER MANCHE…</td></tr><tr><td>&quot;{01EB45EF-F1B0…</td><td>&quot;345,448.00&quot;</td><td>&quot;2022-02-11 00:…</td><td>&quot;M1 2EY&quot;</td><td>&quot;F&quot;</td><td>&quot;Y&quot;</td><td>&quot;L&quot;</td><td>&quot;72&quot;</td><td>&quot;FLAT 902&quot;</td><td>&quot;CHAPELTOWN STR…</td><td>&quot;&quot;</td><td>&quot;MANCHESTER&quot;</td><td>&quot;MANCHESTER&quot;</td><td>&quot;GREATER MANCHE…</td></tr><tr><td>&quot;{879537F9-FB6B…</td><td>&quot;93,000.00&quot;</td><td>&quot;2004-09-22 00:…</td><td>&quot;BL8 2RR&quot;</td><td>&quot;T&quot;</td><td>&quot;N&quot;</td><td>&quot;L&quot;</td><td>&quot;43&quot;</td><td>&quot;&quot;</td><td>&quot;NEWBOLD STREET…</td><td>&quot;BURY&quot;</td><td>&quot;BURY&quot;</td><td>&quot;BURY&quot;</td><td>&quot;GREATER MANCHE…</td></tr><tr><td>&quot;{7011B10A-2B91…</td><td>&quot;80,000.00&quot;</td><td>&quot;2018-05-03 00:…</td><td>&quot;BL3 4HE&quot;</td><td>&quot;T&quot;</td><td>&quot;N&quot;</td><td>&quot;F&quot;</td><td>&quot;243&quot;</td><td>&quot;&quot;</td><td>&quot;WILLOWS LANE&quot;</td><td>&quot;&quot;</td><td>&quot;BOLTON&quot;</td><td>&quot;BOLTON&quot;</td><td>&quot;GREATER MANCHE…</td></tr></tbody></table></div>"
      ],
      "text/plain": [
       "shape: (5, 14)\n",
       "┌───────────┬───────────┬───────────┬──────────┬───┬───────────┬───────────┬───────────┬───────────┐\n",
       "│ column_1  ┆ column_2  ┆ column_3  ┆ column_4 ┆ … ┆ column_11 ┆ column_12 ┆ column_13 ┆ column_14 │\n",
       "│ ---       ┆ ---       ┆ ---       ┆ ---      ┆   ┆ ---       ┆ ---       ┆ ---       ┆ ---       │\n",
       "│ str       ┆ str       ┆ str       ┆ str      ┆   ┆ str       ┆ str       ┆ str       ┆ str       │\n",
       "╞═══════════╪═══════════╪═══════════╪══════════╪═══╪═══════════╪═══════════╪═══════════╪═══════════╡\n",
       "│ {D93B27B1 ┆ 140,000.0 ┆ 2022-02-1 ┆ SK16 4DT ┆ … ┆           ┆ DUKINFIEL ┆ TAMESIDE  ┆ GREATER   │\n",
       "│ -CBD4-310 ┆ 0         ┆ 6 00:00   ┆          ┆   ┆           ┆ D         ┆           ┆ MANCHESTE │\n",
       "│ 0-E053-6C ┆           ┆           ┆          ┆   ┆           ┆           ┆           ┆ R         │\n",
       "│ 04A8C…    ┆           ┆           ┆          ┆   ┆           ┆           ┆           ┆           │\n",
       "│ {2ACACE8D ┆ 278,000.0 ┆ 2024-11-2 ┆ SK6 1QW  ┆ … ┆ WOODLEY   ┆ STOCKPORT ┆ STOCKPORT ┆ GREATER   │\n",
       "│ -02B4-295 ┆ 0         ┆ 9 00:00   ┆          ┆   ┆           ┆           ┆           ┆ MANCHESTE │\n",
       "│ E-E063-48 ┆           ┆           ┆          ┆   ┆           ┆           ┆           ┆ R         │\n",
       "│ 04A8C…    ┆           ┆           ┆          ┆   ┆           ┆           ┆           ┆           │\n",
       "│ {01EB45EF ┆ 345,448.0 ┆ 2022-02-1 ┆ M1 2EY   ┆ … ┆           ┆ MANCHESTE ┆ MANCHESTE ┆ GREATER   │\n",
       "│ -F1B0-40F ┆ 0         ┆ 1 00:00   ┆          ┆   ┆           ┆ R         ┆ R         ┆ MANCHESTE │\n",
       "│ 3-E063-47 ┆           ┆           ┆          ┆   ┆           ┆           ┆           ┆ R         │\n",
       "│ 04A8C…    ┆           ┆           ┆          ┆   ┆           ┆           ┆           ┆           │\n",
       "│ {879537F9 ┆ 93,000.00 ┆ 2004-09-2 ┆ BL8 2RR  ┆ … ┆ BURY      ┆ BURY      ┆ BURY      ┆ GREATER   │\n",
       "│ -FB6B-466 ┆           ┆ 2 00:00   ┆          ┆   ┆           ┆           ┆           ┆ MANCHESTE │\n",
       "│ 3-A0E5-5E ┆           ┆           ┆          ┆   ┆           ┆           ┆           ┆ R         │\n",
       "│ 4075D…    ┆           ┆           ┆          ┆   ┆           ┆           ┆           ┆           │\n",
       "│ {7011B10A ┆ 80,000.00 ┆ 2018-05-0 ┆ BL3 4HE  ┆ … ┆           ┆ BOLTON    ┆ BOLTON    ┆ GREATER   │\n",
       "│ -2B91-8ED ┆           ┆ 3 00:00   ┆          ┆   ┆           ┆           ┆           ┆ MANCHESTE │\n",
       "│ 6-E053-6B ┆           ┆           ┆          ┆   ┆           ┆           ┆           ┆ R         │\n",
       "│ 04A8C…    ┆           ┆           ┆          ┆   ┆           ┆           ┆           ┆           │\n",
       "└───────────┴───────────┴───────────┴──────────┴───┴───────────┴───────────┴───────────┴───────────┘"
      ]
     },
     "execution_count": 46,
     "metadata": {},
     "output_type": "execute_result"
    }
   ],
   "source": [
    "prop_df.head(5)\n"
   ]
  },
  {
   "cell_type": "markdown",
   "metadata": {},
   "source": [
    "### Step 3: Assign column names\n",
    "\n",
    "(A quick note to myself, unlike pandas, polars is immuatable by design. This means that every transformation returns a new data frame which is typically reassigned the same variable. So no need for inpalce=True (pandas))\n",
    "\n",
    "Based from the project brief, the property sales data set contains 14 named columns. These names will now be assigned to the data frame for clearer exploration and cleaning."
   ]
  },
  {
   "cell_type": "code",
   "execution_count": 47,
   "metadata": {},
   "outputs": [
    {
     "data": {
      "text/plain": [
       "['column_1',\n",
       " 'column_2',\n",
       " 'column_3',\n",
       " 'column_4',\n",
       " 'column_5',\n",
       " 'column_6',\n",
       " 'column_7',\n",
       " 'column_8',\n",
       " 'column_9',\n",
       " 'column_10',\n",
       " 'column_11',\n",
       " 'column_12',\n",
       " 'column_13',\n",
       " 'column_14']"
      ]
     },
     "execution_count": 47,
     "metadata": {},
     "output_type": "execute_result"
    }
   ],
   "source": [
    "prop_df.columns"
   ]
  },
  {
   "cell_type": "code",
   "execution_count": 48,
   "metadata": {},
   "outputs": [
    {
     "data": {
      "text/plain": [
       "['id',\n",
       " 'price',\n",
       " 'date',\n",
       " 'postcode',\n",
       " 'property_type',\n",
       " 'new',\n",
       " 'duration',\n",
       " 'paon',\n",
       " 'saon',\n",
       " 'street',\n",
       " 'locality',\n",
       " 'town_city',\n",
       " 'district',\n",
       " 'county']"
      ]
     },
     "execution_count": 48,
     "metadata": {},
     "output_type": "execute_result"
    }
   ],
   "source": [
    "# List of new names from project brief \n",
    "column_names = [\n",
    "    \"id\", \"price\", \"date\", \"postcode\", \"property_type\",\n",
    "    \"new\", \"duration\", \"paon\", \"saon\", \"street\",\n",
    "    \"locality\", \"town_city\", \"district\", \"county\"\n",
    "]\n",
    "# Rename cols using dictionary comprehension\n",
    "# \"column_{i+1}\" gets original col name, \"column_names[i]\" gets the corresponding name from the list provided.\n",
    "# the result gives \"column_1\": \"id\" and so on. \n",
    "prop_df = prop_df.rename({f\"column_{i+1}\": column_names[i] for i in range(14)})\n",
    "\n",
    "# Returns a list of column names. \n",
    "prop_df.columns\n"
   ]
  },
  {
   "cell_type": "code",
   "execution_count": 49,
   "metadata": {},
   "outputs": [
    {
     "data": {
      "text/html": [
       "<div><style>\n",
       ".dataframe > thead > tr,\n",
       ".dataframe > tbody > tr {\n",
       "  text-align: right;\n",
       "  white-space: pre-wrap;\n",
       "}\n",
       "</style>\n",
       "<small>shape: (5, 14)</small><table border=\"1\" class=\"dataframe\"><thead><tr><th>id</th><th>price</th><th>date</th><th>postcode</th><th>property_type</th><th>new</th><th>duration</th><th>paon</th><th>saon</th><th>street</th><th>locality</th><th>town_city</th><th>district</th><th>county</th></tr><tr><td>str</td><td>str</td><td>str</td><td>str</td><td>str</td><td>str</td><td>str</td><td>str</td><td>str</td><td>str</td><td>str</td><td>str</td><td>str</td><td>str</td></tr></thead><tbody><tr><td>&quot;{D93B27B1-CBD4…</td><td>&quot;140,000.00&quot;</td><td>&quot;2022-02-16 00:…</td><td>&quot;SK16 4DT&quot;</td><td>&quot;T&quot;</td><td>&quot;N&quot;</td><td>&quot;F&quot;</td><td>&quot;70&quot;</td><td>&quot;&quot;</td><td>&quot;CHAPEL STREET&quot;</td><td>&quot;&quot;</td><td>&quot;DUKINFIELD&quot;</td><td>&quot;TAMESIDE&quot;</td><td>&quot;GREATER MANCHE…</td></tr><tr><td>&quot;{2ACACE8D-02B4…</td><td>&quot;278,000.00&quot;</td><td>&quot;2024-11-29 00:…</td><td>&quot;SK6 1QW&quot;</td><td>&quot;S&quot;</td><td>&quot;N&quot;</td><td>&quot;F&quot;</td><td>&quot;1&quot;</td><td>&quot;&quot;</td><td>&quot;BRIAR GROVE&quot;</td><td>&quot;WOODLEY&quot;</td><td>&quot;STOCKPORT&quot;</td><td>&quot;STOCKPORT&quot;</td><td>&quot;GREATER MANCHE…</td></tr><tr><td>&quot;{01EB45EF-F1B0…</td><td>&quot;345,448.00&quot;</td><td>&quot;2022-02-11 00:…</td><td>&quot;M1 2EY&quot;</td><td>&quot;F&quot;</td><td>&quot;Y&quot;</td><td>&quot;L&quot;</td><td>&quot;72&quot;</td><td>&quot;FLAT 902&quot;</td><td>&quot;CHAPELTOWN STR…</td><td>&quot;&quot;</td><td>&quot;MANCHESTER&quot;</td><td>&quot;MANCHESTER&quot;</td><td>&quot;GREATER MANCHE…</td></tr><tr><td>&quot;{879537F9-FB6B…</td><td>&quot;93,000.00&quot;</td><td>&quot;2004-09-22 00:…</td><td>&quot;BL8 2RR&quot;</td><td>&quot;T&quot;</td><td>&quot;N&quot;</td><td>&quot;L&quot;</td><td>&quot;43&quot;</td><td>&quot;&quot;</td><td>&quot;NEWBOLD STREET…</td><td>&quot;BURY&quot;</td><td>&quot;BURY&quot;</td><td>&quot;BURY&quot;</td><td>&quot;GREATER MANCHE…</td></tr><tr><td>&quot;{7011B10A-2B91…</td><td>&quot;80,000.00&quot;</td><td>&quot;2018-05-03 00:…</td><td>&quot;BL3 4HE&quot;</td><td>&quot;T&quot;</td><td>&quot;N&quot;</td><td>&quot;F&quot;</td><td>&quot;243&quot;</td><td>&quot;&quot;</td><td>&quot;WILLOWS LANE&quot;</td><td>&quot;&quot;</td><td>&quot;BOLTON&quot;</td><td>&quot;BOLTON&quot;</td><td>&quot;GREATER MANCHE…</td></tr></tbody></table></div>"
      ],
      "text/plain": [
       "shape: (5, 14)\n",
       "┌────────────┬───────────┬───────────┬──────────┬───┬──────────┬───────────┬───────────┬───────────┐\n",
       "│ id         ┆ price     ┆ date      ┆ postcode ┆ … ┆ locality ┆ town_city ┆ district  ┆ county    │\n",
       "│ ---        ┆ ---       ┆ ---       ┆ ---      ┆   ┆ ---      ┆ ---       ┆ ---       ┆ ---       │\n",
       "│ str        ┆ str       ┆ str       ┆ str      ┆   ┆ str      ┆ str       ┆ str       ┆ str       │\n",
       "╞════════════╪═══════════╪═══════════╪══════════╪═══╪══════════╪═══════════╪═══════════╪═══════════╡\n",
       "│ {D93B27B1- ┆ 140,000.0 ┆ 2022-02-1 ┆ SK16 4DT ┆ … ┆          ┆ DUKINFIEL ┆ TAMESIDE  ┆ GREATER   │\n",
       "│ CBD4-3100- ┆ 0         ┆ 6 00:00   ┆          ┆   ┆          ┆ D         ┆           ┆ MANCHESTE │\n",
       "│ E053-6C04A ┆           ┆           ┆          ┆   ┆          ┆           ┆           ┆ R         │\n",
       "│ 8C…        ┆           ┆           ┆          ┆   ┆          ┆           ┆           ┆           │\n",
       "│ {2ACACE8D- ┆ 278,000.0 ┆ 2024-11-2 ┆ SK6 1QW  ┆ … ┆ WOODLEY  ┆ STOCKPORT ┆ STOCKPORT ┆ GREATER   │\n",
       "│ 02B4-295E- ┆ 0         ┆ 9 00:00   ┆          ┆   ┆          ┆           ┆           ┆ MANCHESTE │\n",
       "│ E063-4804A ┆           ┆           ┆          ┆   ┆          ┆           ┆           ┆ R         │\n",
       "│ 8C…        ┆           ┆           ┆          ┆   ┆          ┆           ┆           ┆           │\n",
       "│ {01EB45EF- ┆ 345,448.0 ┆ 2022-02-1 ┆ M1 2EY   ┆ … ┆          ┆ MANCHESTE ┆ MANCHESTE ┆ GREATER   │\n",
       "│ F1B0-40F3- ┆ 0         ┆ 1 00:00   ┆          ┆   ┆          ┆ R         ┆ R         ┆ MANCHESTE │\n",
       "│ E063-4704A ┆           ┆           ┆          ┆   ┆          ┆           ┆           ┆ R         │\n",
       "│ 8C…        ┆           ┆           ┆          ┆   ┆          ┆           ┆           ┆           │\n",
       "│ {879537F9- ┆ 93,000.00 ┆ 2004-09-2 ┆ BL8 2RR  ┆ … ┆ BURY     ┆ BURY      ┆ BURY      ┆ GREATER   │\n",
       "│ FB6B-4663- ┆           ┆ 2 00:00   ┆          ┆   ┆          ┆           ┆           ┆ MANCHESTE │\n",
       "│ A0E5-5E407 ┆           ┆           ┆          ┆   ┆          ┆           ┆           ┆ R         │\n",
       "│ 5D…        ┆           ┆           ┆          ┆   ┆          ┆           ┆           ┆           │\n",
       "│ {7011B10A- ┆ 80,000.00 ┆ 2018-05-0 ┆ BL3 4HE  ┆ … ┆          ┆ BOLTON    ┆ BOLTON    ┆ GREATER   │\n",
       "│ 2B91-8ED6- ┆           ┆ 3 00:00   ┆          ┆   ┆          ┆           ┆           ┆ MANCHESTE │\n",
       "│ E053-6B04A ┆           ┆           ┆          ┆   ┆          ┆           ┆           ┆ R         │\n",
       "│ 8C…        ┆           ┆           ┆          ┆   ┆          ┆           ┆           ┆           │\n",
       "└────────────┴───────────┴───────────┴──────────┴───┴──────────┴───────────┴───────────┴───────────┘"
      ]
     },
     "execution_count": 49,
     "metadata": {},
     "output_type": "execute_result"
    }
   ],
   "source": [
    "prop_df.head()"
   ]
  },
  {
   "cell_type": "markdown",
   "metadata": {},
   "source": [
    "### Step 4: Clean Price column\n",
    "\n",
    "Right now the Price column is a string data type and it contains both commas and quotes. I want to convert it to a floating point number and remove the  commas. "
   ]
  },
  {
   "cell_type": "code",
   "execution_count": 50,
   "metadata": {},
   "outputs": [
    {
     "data": {
      "text/html": [
       "<div><style>\n",
       ".dataframe > thead > tr,\n",
       ".dataframe > tbody > tr {\n",
       "  text-align: right;\n",
       "  white-space: pre-wrap;\n",
       "}\n",
       "</style>\n",
       "<small>shape: (5, 14)</small><table border=\"1\" class=\"dataframe\"><thead><tr><th>id</th><th>price</th><th>date</th><th>postcode</th><th>property_type</th><th>new</th><th>duration</th><th>paon</th><th>saon</th><th>street</th><th>locality</th><th>town_city</th><th>district</th><th>county</th></tr><tr><td>str</td><td>f64</td><td>str</td><td>str</td><td>str</td><td>str</td><td>str</td><td>str</td><td>str</td><td>str</td><td>str</td><td>str</td><td>str</td><td>str</td></tr></thead><tbody><tr><td>&quot;{D93B27B1-CBD4…</td><td>140000.0</td><td>&quot;2022-02-16 00:…</td><td>&quot;SK16 4DT&quot;</td><td>&quot;T&quot;</td><td>&quot;N&quot;</td><td>&quot;F&quot;</td><td>&quot;70&quot;</td><td>&quot;&quot;</td><td>&quot;CHAPEL STREET&quot;</td><td>&quot;&quot;</td><td>&quot;DUKINFIELD&quot;</td><td>&quot;TAMESIDE&quot;</td><td>&quot;GREATER MANCHE…</td></tr><tr><td>&quot;{2ACACE8D-02B4…</td><td>278000.0</td><td>&quot;2024-11-29 00:…</td><td>&quot;SK6 1QW&quot;</td><td>&quot;S&quot;</td><td>&quot;N&quot;</td><td>&quot;F&quot;</td><td>&quot;1&quot;</td><td>&quot;&quot;</td><td>&quot;BRIAR GROVE&quot;</td><td>&quot;WOODLEY&quot;</td><td>&quot;STOCKPORT&quot;</td><td>&quot;STOCKPORT&quot;</td><td>&quot;GREATER MANCHE…</td></tr><tr><td>&quot;{01EB45EF-F1B0…</td><td>345448.0</td><td>&quot;2022-02-11 00:…</td><td>&quot;M1 2EY&quot;</td><td>&quot;F&quot;</td><td>&quot;Y&quot;</td><td>&quot;L&quot;</td><td>&quot;72&quot;</td><td>&quot;FLAT 902&quot;</td><td>&quot;CHAPELTOWN STR…</td><td>&quot;&quot;</td><td>&quot;MANCHESTER&quot;</td><td>&quot;MANCHESTER&quot;</td><td>&quot;GREATER MANCHE…</td></tr><tr><td>&quot;{879537F9-FB6B…</td><td>93000.0</td><td>&quot;2004-09-22 00:…</td><td>&quot;BL8 2RR&quot;</td><td>&quot;T&quot;</td><td>&quot;N&quot;</td><td>&quot;L&quot;</td><td>&quot;43&quot;</td><td>&quot;&quot;</td><td>&quot;NEWBOLD STREET…</td><td>&quot;BURY&quot;</td><td>&quot;BURY&quot;</td><td>&quot;BURY&quot;</td><td>&quot;GREATER MANCHE…</td></tr><tr><td>&quot;{7011B10A-2B91…</td><td>80000.0</td><td>&quot;2018-05-03 00:…</td><td>&quot;BL3 4HE&quot;</td><td>&quot;T&quot;</td><td>&quot;N&quot;</td><td>&quot;F&quot;</td><td>&quot;243&quot;</td><td>&quot;&quot;</td><td>&quot;WILLOWS LANE&quot;</td><td>&quot;&quot;</td><td>&quot;BOLTON&quot;</td><td>&quot;BOLTON&quot;</td><td>&quot;GREATER MANCHE…</td></tr></tbody></table></div>"
      ],
      "text/plain": [
       "shape: (5, 14)\n",
       "┌────────────┬──────────┬────────────┬──────────┬───┬──────────┬───────────┬───────────┬───────────┐\n",
       "│ id         ┆ price    ┆ date       ┆ postcode ┆ … ┆ locality ┆ town_city ┆ district  ┆ county    │\n",
       "│ ---        ┆ ---      ┆ ---        ┆ ---      ┆   ┆ ---      ┆ ---       ┆ ---       ┆ ---       │\n",
       "│ str        ┆ f64      ┆ str        ┆ str      ┆   ┆ str      ┆ str       ┆ str       ┆ str       │\n",
       "╞════════════╪══════════╪════════════╪══════════╪═══╪══════════╪═══════════╪═══════════╪═══════════╡\n",
       "│ {D93B27B1- ┆ 140000.0 ┆ 2022-02-16 ┆ SK16 4DT ┆ … ┆          ┆ DUKINFIEL ┆ TAMESIDE  ┆ GREATER   │\n",
       "│ CBD4-3100- ┆          ┆ 00:00      ┆          ┆   ┆          ┆ D         ┆           ┆ MANCHESTE │\n",
       "│ E053-6C04A ┆          ┆            ┆          ┆   ┆          ┆           ┆           ┆ R         │\n",
       "│ 8C…        ┆          ┆            ┆          ┆   ┆          ┆           ┆           ┆           │\n",
       "│ {2ACACE8D- ┆ 278000.0 ┆ 2024-11-29 ┆ SK6 1QW  ┆ … ┆ WOODLEY  ┆ STOCKPORT ┆ STOCKPORT ┆ GREATER   │\n",
       "│ 02B4-295E- ┆          ┆ 00:00      ┆          ┆   ┆          ┆           ┆           ┆ MANCHESTE │\n",
       "│ E063-4804A ┆          ┆            ┆          ┆   ┆          ┆           ┆           ┆ R         │\n",
       "│ 8C…        ┆          ┆            ┆          ┆   ┆          ┆           ┆           ┆           │\n",
       "│ {01EB45EF- ┆ 345448.0 ┆ 2022-02-11 ┆ M1 2EY   ┆ … ┆          ┆ MANCHESTE ┆ MANCHESTE ┆ GREATER   │\n",
       "│ F1B0-40F3- ┆          ┆ 00:00      ┆          ┆   ┆          ┆ R         ┆ R         ┆ MANCHESTE │\n",
       "│ E063-4704A ┆          ┆            ┆          ┆   ┆          ┆           ┆           ┆ R         │\n",
       "│ 8C…        ┆          ┆            ┆          ┆   ┆          ┆           ┆           ┆           │\n",
       "│ {879537F9- ┆ 93000.0  ┆ 2004-09-22 ┆ BL8 2RR  ┆ … ┆ BURY     ┆ BURY      ┆ BURY      ┆ GREATER   │\n",
       "│ FB6B-4663- ┆          ┆ 00:00      ┆          ┆   ┆          ┆           ┆           ┆ MANCHESTE │\n",
       "│ A0E5-5E407 ┆          ┆            ┆          ┆   ┆          ┆           ┆           ┆ R         │\n",
       "│ 5D…        ┆          ┆            ┆          ┆   ┆          ┆           ┆           ┆           │\n",
       "│ {7011B10A- ┆ 80000.0  ┆ 2018-05-03 ┆ BL3 4HE  ┆ … ┆          ┆ BOLTON    ┆ BOLTON    ┆ GREATER   │\n",
       "│ 2B91-8ED6- ┆          ┆ 00:00      ┆          ┆   ┆          ┆           ┆           ┆ MANCHESTE │\n",
       "│ E053-6B04A ┆          ┆            ┆          ┆   ┆          ┆           ┆           ┆ R         │\n",
       "│ 8C…        ┆          ┆            ┆          ┆   ┆          ┆           ┆           ┆           │\n",
       "└────────────┴──────────┴────────────┴──────────┴───┴──────────┴───────────┴───────────┴───────────┘"
      ]
     },
     "execution_count": 50,
     "metadata": {},
     "output_type": "execute_result"
    }
   ],
   "source": [
    "# with_columns is how polars updates or removes columns\n",
    "prop_df = prop_df.with_columns([\n",
    "    prop_df[\"price\"]                # This selects the price column \n",
    "    .str.replace_all(\",\", \"\")       # Remove commas\n",
    "    .str.strip_chars('\"')           # Remove surrounding quotes\n",
    "    .cast(pl.Float64)               # Convert to float\n",
    "    .alias(\"price\")                 # Keep the column name\n",
    "])\n",
    "\n",
    "prop_df.head()"
   ]
  },
  {
   "cell_type": "markdown",
   "metadata": {},
   "source": [
    "### Step 5: Format date column\n",
    "\n",
    "Currently, the date column is a string with a time stamp suffix. This is not appropriate for time-based analysis\n",
    "To fix it, I need to convert the string into proper date type. \n",
    "This will allow for filtering and time-based aggregation later on down the line.\n"
   ]
  },
  {
   "cell_type": "code",
   "execution_count": 51,
   "metadata": {},
   "outputs": [],
   "source": [
    "# Clean the 'date' column:\n",
    "# - Strip surrounding quotes\n",
    "# - Parse full datetime string using correct format\n",
    "# - Convert to Polars Date type (drops time portion)\n",
    "prop_df = prop_df.with_columns([\n",
    "    prop_df[\"date\"]\n",
    "    .str.strip_chars('\"')                   # Remove surrounding quotes\n",
    "    .str.strptime(pl.Date, \"%Y-%m-%d %H:%M\")  # Parse full datetime string\n",
    "    .alias(\"date\")                          # Keep the column name\n",
    "])\n"
   ]
  },
  {
   "cell_type": "markdown",
   "metadata": {},
   "source": [
    "### Step 6: Enrich Property Data with Geospatial Coordinates\n",
    "\n",
    "To support location-based analysis, I will enrich the property sales dataset with latitude and longitude information from the postcode metadata.\n",
    "\n",
    "Steps:\n",
    "- Load and preview the postcode dataset (`pc_man.parquet`)\n",
    "- Standardize the join keys: the property dataset uses `\"postcode\"` while the postcode dataset uses `\"pcds\"`\n",
    "- Rename and clean both columns to ensure a successful join\n",
    "- Perform a left join to append `lat` and `long` to each property record\n"
   ]
  },
  {
   "cell_type": "code",
   "execution_count": 52,
   "metadata": {},
   "outputs": [
    {
     "data": {
      "text/html": [
       "<div><style>\n",
       ".dataframe > thead > tr,\n",
       ".dataframe > tbody > tr {\n",
       "  text-align: right;\n",
       "  white-space: pre-wrap;\n",
       "}\n",
       "</style>\n",
       "<small>shape: (5, 3)</small><table border=\"1\" class=\"dataframe\"><thead><tr><th>pcds</th><th>lat</th><th>long</th></tr><tr><td>str</td><td>f64</td><td>f64</td></tr></thead><tbody><tr><td>&quot;AL1 3PE&quot;</td><td>51.755864</td><td>-0.327577</td></tr><tr><td>&quot;AL1 4FJ&quot;</td><td>51.761598</td><td>-0.326075</td></tr><tr><td>&quot;AL1 5UE&quot;</td><td>51.751596</td><td>-0.325894</td></tr><tr><td>&quot;AL2 1NT&quot;</td><td>51.720229</td><td>-0.295058</td></tr><tr><td>&quot;AL2 2PJ&quot;</td><td>51.721518</td><td>-0.337343</td></tr></tbody></table></div>"
      ],
      "text/plain": [
       "shape: (5, 3)\n",
       "┌─────────┬───────────┬───────────┐\n",
       "│ pcds    ┆ lat       ┆ long      │\n",
       "│ ---     ┆ ---       ┆ ---       │\n",
       "│ str     ┆ f64       ┆ f64       │\n",
       "╞═════════╪═══════════╪═══════════╡\n",
       "│ AL1 3PE ┆ 51.755864 ┆ -0.327577 │\n",
       "│ AL1 4FJ ┆ 51.761598 ┆ -0.326075 │\n",
       "│ AL1 5UE ┆ 51.751596 ┆ -0.325894 │\n",
       "│ AL2 1NT ┆ 51.720229 ┆ -0.295058 │\n",
       "│ AL2 2PJ ┆ 51.721518 ┆ -0.337343 │\n",
       "└─────────┴───────────┴───────────┘"
      ]
     },
     "execution_count": 52,
     "metadata": {},
     "output_type": "execute_result"
    }
   ],
   "source": [
    "geo_df = pl.read_parquet(\"../data/pc_man.parquet\")\n",
    "geo_df.head()\n"
   ]
  },
  {
   "cell_type": "code",
   "execution_count": 53,
   "metadata": {},
   "outputs": [
    {
     "data": {
      "text/html": [
       "<div><style>\n",
       ".dataframe > thead > tr,\n",
       ".dataframe > tbody > tr {\n",
       "  text-align: right;\n",
       "  white-space: pre-wrap;\n",
       "}\n",
       "</style>\n",
       "<small>shape: (5, 16)</small><table border=\"1\" class=\"dataframe\"><thead><tr><th>id</th><th>price</th><th>date</th><th>postcode</th><th>property_type</th><th>new</th><th>duration</th><th>paon</th><th>saon</th><th>street</th><th>locality</th><th>town_city</th><th>district</th><th>county</th><th>lat</th><th>long</th></tr><tr><td>str</td><td>f64</td><td>date</td><td>str</td><td>str</td><td>str</td><td>str</td><td>str</td><td>str</td><td>str</td><td>str</td><td>str</td><td>str</td><td>str</td><td>f64</td><td>f64</td></tr></thead><tbody><tr><td>&quot;{D93B27B1-CBD4…</td><td>140000.0</td><td>2022-02-16</td><td>&quot;SK16 4DT&quot;</td><td>&quot;T&quot;</td><td>&quot;N&quot;</td><td>&quot;F&quot;</td><td>&quot;70&quot;</td><td>&quot;&quot;</td><td>&quot;CHAPEL STREET&quot;</td><td>&quot;&quot;</td><td>&quot;DUKINFIELD&quot;</td><td>&quot;TAMESIDE&quot;</td><td>&quot;GREATER MANCHE…</td><td>53.477466</td><td>-2.091735</td></tr><tr><td>&quot;{2ACACE8D-02B4…</td><td>278000.0</td><td>2024-11-29</td><td>&quot;SK6 1QW&quot;</td><td>&quot;S&quot;</td><td>&quot;N&quot;</td><td>&quot;F&quot;</td><td>&quot;1&quot;</td><td>&quot;&quot;</td><td>&quot;BRIAR GROVE&quot;</td><td>&quot;WOODLEY&quot;</td><td>&quot;STOCKPORT&quot;</td><td>&quot;STOCKPORT&quot;</td><td>&quot;GREATER MANCHE…</td><td>53.427355</td><td>-2.102642</td></tr><tr><td>&quot;{01EB45EF-F1B0…</td><td>345448.0</td><td>2022-02-11</td><td>&quot;M1 2EY&quot;</td><td>&quot;F&quot;</td><td>&quot;Y&quot;</td><td>&quot;L&quot;</td><td>&quot;72&quot;</td><td>&quot;FLAT 902&quot;</td><td>&quot;CHAPELTOWN STR…</td><td>&quot;&quot;</td><td>&quot;MANCHESTER&quot;</td><td>&quot;MANCHESTER&quot;</td><td>&quot;GREATER MANCHE…</td><td>53.478898</td><td>-2.224708</td></tr><tr><td>&quot;{879537F9-FB6B…</td><td>93000.0</td><td>2004-09-22</td><td>&quot;BL8 2RR&quot;</td><td>&quot;T&quot;</td><td>&quot;N&quot;</td><td>&quot;L&quot;</td><td>&quot;43&quot;</td><td>&quot;&quot;</td><td>&quot;NEWBOLD STREET…</td><td>&quot;BURY&quot;</td><td>&quot;BURY&quot;</td><td>&quot;BURY&quot;</td><td>&quot;GREATER MANCHE…</td><td>53.594024</td><td>-2.318071</td></tr><tr><td>&quot;{7011B10A-2B91…</td><td>80000.0</td><td>2018-05-03</td><td>&quot;BL3 4HE&quot;</td><td>&quot;T&quot;</td><td>&quot;N&quot;</td><td>&quot;F&quot;</td><td>&quot;243&quot;</td><td>&quot;&quot;</td><td>&quot;WILLOWS LANE&quot;</td><td>&quot;&quot;</td><td>&quot;BOLTON&quot;</td><td>&quot;BOLTON&quot;</td><td>&quot;GREATER MANCHE…</td><td>53.56682</td><td>-2.458227</td></tr></tbody></table></div>"
      ],
      "text/plain": [
       "shape: (5, 16)\n",
       "┌────────────┬──────────┬───────────┬──────────┬───┬───────────┬───────────┬───────────┬───────────┐\n",
       "│ id         ┆ price    ┆ date      ┆ postcode ┆ … ┆ district  ┆ county    ┆ lat       ┆ long      │\n",
       "│ ---        ┆ ---      ┆ ---       ┆ ---      ┆   ┆ ---       ┆ ---       ┆ ---       ┆ ---       │\n",
       "│ str        ┆ f64      ┆ date      ┆ str      ┆   ┆ str       ┆ str       ┆ f64       ┆ f64       │\n",
       "╞════════════╪══════════╪═══════════╪══════════╪═══╪═══════════╪═══════════╪═══════════╪═══════════╡\n",
       "│ {D93B27B1- ┆ 140000.0 ┆ 2022-02-1 ┆ SK16 4DT ┆ … ┆ TAMESIDE  ┆ GREATER   ┆ 53.477466 ┆ -2.091735 │\n",
       "│ CBD4-3100- ┆          ┆ 6         ┆          ┆   ┆           ┆ MANCHESTE ┆           ┆           │\n",
       "│ E053-6C04A ┆          ┆           ┆          ┆   ┆           ┆ R         ┆           ┆           │\n",
       "│ 8C…        ┆          ┆           ┆          ┆   ┆           ┆           ┆           ┆           │\n",
       "│ {2ACACE8D- ┆ 278000.0 ┆ 2024-11-2 ┆ SK6 1QW  ┆ … ┆ STOCKPORT ┆ GREATER   ┆ 53.427355 ┆ -2.102642 │\n",
       "│ 02B4-295E- ┆          ┆ 9         ┆          ┆   ┆           ┆ MANCHESTE ┆           ┆           │\n",
       "│ E063-4804A ┆          ┆           ┆          ┆   ┆           ┆ R         ┆           ┆           │\n",
       "│ 8C…        ┆          ┆           ┆          ┆   ┆           ┆           ┆           ┆           │\n",
       "│ {01EB45EF- ┆ 345448.0 ┆ 2022-02-1 ┆ M1 2EY   ┆ … ┆ MANCHESTE ┆ GREATER   ┆ 53.478898 ┆ -2.224708 │\n",
       "│ F1B0-40F3- ┆          ┆ 1         ┆          ┆   ┆ R         ┆ MANCHESTE ┆           ┆           │\n",
       "│ E063-4704A ┆          ┆           ┆          ┆   ┆           ┆ R         ┆           ┆           │\n",
       "│ 8C…        ┆          ┆           ┆          ┆   ┆           ┆           ┆           ┆           │\n",
       "│ {879537F9- ┆ 93000.0  ┆ 2004-09-2 ┆ BL8 2RR  ┆ … ┆ BURY      ┆ GREATER   ┆ 53.594024 ┆ -2.318071 │\n",
       "│ FB6B-4663- ┆          ┆ 2         ┆          ┆   ┆           ┆ MANCHESTE ┆           ┆           │\n",
       "│ A0E5-5E407 ┆          ┆           ┆          ┆   ┆           ┆ R         ┆           ┆           │\n",
       "│ 5D…        ┆          ┆           ┆          ┆   ┆           ┆           ┆           ┆           │\n",
       "│ {7011B10A- ┆ 80000.0  ┆ 2018-05-0 ┆ BL3 4HE  ┆ … ┆ BOLTON    ┆ GREATER   ┆ 53.56682  ┆ -2.458227 │\n",
       "│ 2B91-8ED6- ┆          ┆ 3         ┆          ┆   ┆           ┆ MANCHESTE ┆           ┆           │\n",
       "│ E053-6B04A ┆          ┆           ┆          ┆   ┆           ┆ R         ┆           ┆           │\n",
       "│ 8C…        ┆          ┆           ┆          ┆   ┆           ┆           ┆           ┆           │\n",
       "└────────────┴──────────┴───────────┴──────────┴───┴───────────┴───────────┴───────────┴───────────┘"
      ]
     },
     "execution_count": 53,
     "metadata": {},
     "output_type": "execute_result"
    }
   ],
   "source": [
    "# Strip quotes from postcode column in prop_df\n",
    "prop_df = prop_df.with_columns([\n",
    "    prop_df[\"postcode\"].str.strip_chars('\"').alias(\"postcode\")\n",
    "])\n",
    "\n",
    "# Rename join key in geo_df to match\n",
    "geo_df = geo_df.rename({\"pcds\": \"postcode\"})\n",
    "\n",
    "# Join property data with postcode metadata\n",
    "prop_df = prop_df.join(geo_df, on=\"postcode\", how=\"left\")\n",
    "\n",
    "# Validating the join to ensure things have joined correctly\n",
    "prop_df.select([\"postcode\", \"lat\", \"long\"]).head()\n",
    "\n",
    "prop_df.head()"
   ]
  },
  {
   "cell_type": "markdown",
   "metadata": {},
   "source": [
    "### Step 7: Handling Missing Values\n",
    "\n",
    "After inspecting the dataframe for missing values, it is clear that 1,265 records are missing latitude and longitude data. Since geospatial analysis is a key part of this project, I have decided to drop these records to ensure consistency and accuracy in location-based insights.\n",
    "\n"
   ]
  },
  {
   "cell_type": "code",
   "execution_count": 54,
   "metadata": {},
   "outputs": [],
   "source": [
    "# Check for missing values\n",
    "prop_df.null_count()\n",
    "\n",
    "# Drop rows with missing geospatial data by filtering lat and long is not null\n",
    "prop_df = prop_df.filter(pl.col(\"lat\").is_not_null() & pl.col(\"long\").is_not_null())"
   ]
  },
  {
   "cell_type": "markdown",
   "metadata": {},
   "source": [
    "### Step 8: Standardising Categorical Fields\n",
    "\n",
    "To make the dataset more intuitive for stakeholders, I mapped shorthand codes to human-readable labels. This improves clarity in dashboards and removes the need for a legend—for example, replacing `\"F\"` with `\"Flat\"` makes the data instantly understandable. It also enhances professionalism and accessibility in visual outputs.\n",
    "\n",
    "Ultimately, this step is about making the data usable and trustworthy, especially when shared across teams or presented to non-technical audiences.\n",
    "\n",
    "Initially, I used `map_dict`, but received a deprecation warning. After some research, I found that `replace()` achieves the same result while keeping the pipeline future-proof.\n"
   ]
  },
  {
   "cell_type": "code",
   "execution_count": 55,
   "metadata": {},
   "outputs": [
    {
     "data": {
      "text/html": [
       "<div><style>\n",
       ".dataframe > thead > tr,\n",
       ".dataframe > tbody > tr {\n",
       "  text-align: right;\n",
       "  white-space: pre-wrap;\n",
       "}\n",
       "</style>\n",
       "<small>shape: (5, 3)</small><table border=\"1\" class=\"dataframe\"><thead><tr><th>property_type</th><th>new</th><th>duration</th></tr><tr><td>str</td><td>str</td><td>str</td></tr></thead><tbody><tr><td>&quot;Terraced&quot;</td><td>&quot;Old Build&quot;</td><td>&quot;Freehold&quot;</td></tr><tr><td>&quot;Semi Detached&quot;</td><td>&quot;Old Build&quot;</td><td>&quot;Freehold&quot;</td></tr><tr><td>&quot;Flat&quot;</td><td>&quot;New Build&quot;</td><td>&quot;Leasehold&quot;</td></tr><tr><td>&quot;Terraced&quot;</td><td>&quot;Old Build&quot;</td><td>&quot;Leasehold&quot;</td></tr><tr><td>&quot;Terraced&quot;</td><td>&quot;Old Build&quot;</td><td>&quot;Freehold&quot;</td></tr></tbody></table></div>"
      ],
      "text/plain": [
       "shape: (5, 3)\n",
       "┌───────────────┬───────────┬───────────┐\n",
       "│ property_type ┆ new       ┆ duration  │\n",
       "│ ---           ┆ ---       ┆ ---       │\n",
       "│ str           ┆ str       ┆ str       │\n",
       "╞═══════════════╪═══════════╪═══════════╡\n",
       "│ Terraced      ┆ Old Build ┆ Freehold  │\n",
       "│ Semi Detached ┆ Old Build ┆ Freehold  │\n",
       "│ Flat          ┆ New Build ┆ Leasehold │\n",
       "│ Terraced      ┆ Old Build ┆ Leasehold │\n",
       "│ Terraced      ┆ Old Build ┆ Freehold  │\n",
       "└───────────────┴───────────┴───────────┘"
      ]
     },
     "execution_count": 55,
     "metadata": {},
     "output_type": "execute_result"
    }
   ],
   "source": [
    "# Define mapping dictionaries\n",
    "property_type_map = {\n",
    "    \"F\": \"Flat\",\n",
    "    \"S\": \"Semi Detached\",\n",
    "    \"D\": \"Detached\",\n",
    "    \"T\": \"Terraced\",\n",
    "    \"O\": \"Other (Non Residential)\"\n",
    "}\n",
    "\n",
    "new_build_map = {\n",
    "    \"Y\": \"New Build\",\n",
    "    \"N\": \"Old Build\"\n",
    "}\n",
    "\n",
    "duration_map = {\n",
    "    \"F\": \"Freehold\",\n",
    "    \"L\": \"Leasehold\"\n",
    "}\n",
    "\n",
    "# Apply mappings using replace()\n",
    "prop_df = prop_df.with_columns([\n",
    "    pl.col(\"property_type\").replace(property_type_map).alias(\"property_type\"),\n",
    "    pl.col(\"new\").replace(new_build_map).alias(\"new\"),\n",
    "    pl.col(\"duration\").replace(duration_map).alias(\"duration\")\n",
    "])\n",
    "\n",
    "# Validate result\n",
    "prop_df.select([\"property_type\", \"new\", \"duration\"]).head()\n"
   ]
  },
  {
   "cell_type": "markdown",
   "metadata": {},
   "source": [
    "### Step 9: Creating Derived Columns\n",
    "\n",
    "This step is important because it makes querying the data faster, cleaner, and more reproducible. It also aligns directly with the challenge questions, many of which require filtering by year, aggregating by postal sector, or identifying trends over time.\n",
    "\n",
    "By extracting key components like `year` from `date` and `postal_sector` from `postcode`, I can simplify filtering, grouping, and visualisation. These derived columns also improve performance and readability in dashboards, making the data more accessible to stakeholders.\n",
    "\n",
    "Examples include:\n",
    "- `year`: Enables time-based grouping (e.g. sales after 2010, trends since 1996)\n",
    "- `postal_sector`: Supports spatial aggregation (e.g. ranking sectors like \"M1 3\" or \"M3 6\")\n",
    "\n",
    "These transformations help turn raw data into actionable dimensions for analysis.\n"
   ]
  },
  {
   "cell_type": "code",
   "execution_count": 56,
   "metadata": {},
   "outputs": [
    {
     "data": {
      "text/html": [
       "<div><style>\n",
       ".dataframe > thead > tr,\n",
       ".dataframe > tbody > tr {\n",
       "  text-align: right;\n",
       "  white-space: pre-wrap;\n",
       "}\n",
       "</style>\n",
       "<small>shape: (5, 2)</small><table border=\"1\" class=\"dataframe\"><thead><tr><th>date</th><th>year</th></tr><tr><td>date</td><td>i32</td></tr></thead><tbody><tr><td>2022-02-16</td><td>2022</td></tr><tr><td>2024-11-29</td><td>2024</td></tr><tr><td>2022-02-11</td><td>2022</td></tr><tr><td>2004-09-22</td><td>2004</td></tr><tr><td>2018-05-03</td><td>2018</td></tr></tbody></table></div>"
      ],
      "text/plain": [
       "shape: (5, 2)\n",
       "┌────────────┬──────┐\n",
       "│ date       ┆ year │\n",
       "│ ---        ┆ ---  │\n",
       "│ date       ┆ i32  │\n",
       "╞════════════╪══════╡\n",
       "│ 2022-02-16 ┆ 2022 │\n",
       "│ 2024-11-29 ┆ 2024 │\n",
       "│ 2022-02-11 ┆ 2022 │\n",
       "│ 2004-09-22 ┆ 2004 │\n",
       "│ 2018-05-03 ┆ 2018 │\n",
       "└────────────┴──────┘"
      ]
     },
     "execution_count": 56,
     "metadata": {},
     "output_type": "execute_result"
    }
   ],
   "source": [
    "# Extract year from date using `dt.year()` method\n",
    "prop_df = prop_df.with_columns([\n",
    "    pl.col(\"date\").dt.year().alias(\"year\")\n",
    "])\n",
    "\n",
    "# Preview result\n",
    "prop_df.select([\"date\", \"year\"]).head()\n"
   ]
  },
  {
   "cell_type": "code",
   "execution_count": 57,
   "metadata": {},
   "outputs": [
    {
     "data": {
      "text/html": [
       "<div><style>\n",
       ".dataframe > thead > tr,\n",
       ".dataframe > tbody > tr {\n",
       "  text-align: right;\n",
       "  white-space: pre-wrap;\n",
       "}\n",
       "</style>\n",
       "<small>shape: (5, 2)</small><table border=\"1\" class=\"dataframe\"><thead><tr><th>postcode</th><th>postal_sector</th></tr><tr><td>str</td><td>str</td></tr></thead><tbody><tr><td>&quot;SK16 4DT&quot;</td><td>&quot;SK16 4&quot;</td></tr><tr><td>&quot;SK6 1QW&quot;</td><td>&quot;SK6 1&quot;</td></tr><tr><td>&quot;M1 2EY&quot;</td><td>&quot;M1 2&quot;</td></tr><tr><td>&quot;BL8 2RR&quot;</td><td>&quot;BL8 2&quot;</td></tr><tr><td>&quot;BL3 4HE&quot;</td><td>&quot;BL3 4&quot;</td></tr></tbody></table></div>"
      ],
      "text/plain": [
       "shape: (5, 2)\n",
       "┌──────────┬───────────────┐\n",
       "│ postcode ┆ postal_sector │\n",
       "│ ---      ┆ ---           │\n",
       "│ str      ┆ str           │\n",
       "╞══════════╪═══════════════╡\n",
       "│ SK16 4DT ┆ SK16 4        │\n",
       "│ SK6 1QW  ┆ SK6 1         │\n",
       "│ M1 2EY   ┆ M1 2          │\n",
       "│ BL8 2RR  ┆ BL8 2         │\n",
       "│ BL3 4HE  ┆ BL3 4         │\n",
       "└──────────┴───────────────┘"
      ]
     },
     "execution_count": 57,
     "metadata": {},
     "output_type": "execute_result"
    }
   ],
   "source": [
    "# Derive postal_sector from postcode\n",
    "# Select postcode col\n",
    "# Applied a regex to each string that extracts the postal sector, first part of post code + first digit of the second part\n",
    "# The number 1 refers to the first capturing group of the expression\n",
    "# Alias renames the result to postal_sector so it becomes a new col in the dataframe\n",
    "prop_df = prop_df.with_columns([\n",
    "    pl.col(\"postcode\").str.extract(r\"^([A-Z]+\\d+\\s\\d)\", 1).alias(\"postal_sector\")\n",
    "])\n",
    "\n",
    "# Preview result\n",
    "prop_df.select([\"postcode\", \"postal_sector\"]).head()"
   ]
  },
  {
   "cell_type": "markdown",
   "metadata": {},
   "source": [
    "### Step 10: Checking Data Ranges\n",
    "\n",
    "To check for outliers and ensure the dataset falls within the expected scope (1996–2024), I validated the minimum and maximum values for `date`. This helps identify any suspicious entries, such as dates outside the challenge range."
   ]
  },
  {
   "cell_type": "code",
   "execution_count": 59,
   "metadata": {},
   "outputs": [
    {
     "data": {
      "text/html": [
       "<div><style>\n",
       ".dataframe > thead > tr,\n",
       ".dataframe > tbody > tr {\n",
       "  text-align: right;\n",
       "  white-space: pre-wrap;\n",
       "}\n",
       "</style>\n",
       "<small>shape: (1, 2)</small><table border=\"1\" class=\"dataframe\"><thead><tr><th>min_date</th><th>max_date</th></tr><tr><td>date</td><td>date</td></tr></thead><tbody><tr><td>1995-01-01</td><td>2025-07-31</td></tr></tbody></table></div>"
      ],
      "text/plain": [
       "shape: (1, 2)\n",
       "┌────────────┬────────────┐\n",
       "│ min_date   ┆ max_date   │\n",
       "│ ---        ┆ ---        │\n",
       "│ date       ┆ date       │\n",
       "╞════════════╪════════════╡\n",
       "│ 1995-01-01 ┆ 2025-07-31 │\n",
       "└────────────┴────────────┘"
      ]
     },
     "execution_count": 59,
     "metadata": {},
     "output_type": "execute_result"
    }
   ],
   "source": [
    "prop_df.select([\n",
    "    pl.col(\"date\").min().alias(\"min_date\"),\n",
    "    pl.col(\"date\").max().alias(\"max_date\")\n",
    "])\n"
   ]
  },
  {
   "cell_type": "markdown",
   "metadata": {},
   "source": [
    "### Step 11: Filtering by Scope and Timeframe\n",
    "\n",
    "To align with the challenge requirements, I filtered the dataset to include only:\n",
    "\n",
    "- Sales between **January 1996 and December 2024**\n",
    "- Properties within **Greater Manchester**\n",
    "\n",
    "This ensures all subsequent analysis is relevant and scoped correctly.\n",
    "\n",
    "I had to import `date` from Python’s `datetime` module because Polars requires native datetime objects for comparisons."
   ]
  },
  {
   "cell_type": "code",
   "execution_count": 63,
   "metadata": {},
   "outputs": [
    {
     "data": {
      "text/html": [
       "<div><style>\n",
       ".dataframe > thead > tr,\n",
       ".dataframe > tbody > tr {\n",
       "  text-align: right;\n",
       "  white-space: pre-wrap;\n",
       "}\n",
       "</style>\n",
       "<small>shape: (1, 2)</small><table border=\"1\" class=\"dataframe\"><thead><tr><th>min_date</th><th>max_date</th></tr><tr><td>date</td><td>date</td></tr></thead><tbody><tr><td>1996-01-01</td><td>2024-12-26</td></tr></tbody></table></div>"
      ],
      "text/plain": [
       "shape: (1, 2)\n",
       "┌────────────┬────────────┐\n",
       "│ min_date   ┆ max_date   │\n",
       "│ ---        ┆ ---        │\n",
       "│ date       ┆ date       │\n",
       "╞════════════╪════════════╡\n",
       "│ 1996-01-01 ┆ 2024-12-26 │\n",
       "└────────────┴────────────┘"
      ]
     },
     "execution_count": 63,
     "metadata": {},
     "output_type": "execute_result"
    }
   ],
   "source": [
    "# for safe date comparisons\n",
    "from datetime import date\n",
    "# Filtered data set to include project scope\n",
    "prop_df = prop_df.filter(\n",
    "    (pl.col(\"date\") >= date(1996, 1, 1)) & # Keep rows on and after 1996-01-01\n",
    "    (pl.col(\"date\") <= date(2024, 12, 31)) # The same but on and before 2024-12-31\n",
    ")\n",
    "# validate by checking min and max dates to ensure within project scope\n",
    "prop_df.select([\n",
    "    pl.col(\"date\").min().alias(\"min_date\"), # Earliest sale\n",
    "    pl.col(\"date\").max().alias(\"max_date\") # Latest sale\n",
    "])\n"
   ]
  },
  {
   "cell_type": "code",
   "execution_count": 64,
   "metadata": {},
   "outputs": [],
   "source": [
    "# This code snippet does the same but for county, ensuring only the greater manchester area is included \n",
    "prop_df = prop_df.filter(\n",
    "    pl.col(\"county\") == \"GREATER MANCHESTER\"\n",
    ")\n"
   ]
  }
 ],
 "metadata": {
  "kernelspec": {
   "display_name": "venv",
   "language": "python",
   "name": "python3"
  },
  "language_info": {
   "codemirror_mode": {
    "name": "ipython",
    "version": 3
   },
   "file_extension": ".py",
   "mimetype": "text/x-python",
   "name": "python",
   "nbconvert_exporter": "python",
   "pygments_lexer": "ipython3",
   "version": "3.11.13"
  }
 },
 "nbformat": 4,
 "nbformat_minor": 2
}
